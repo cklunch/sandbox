{
 "cells": [
  {
   "cell_type": "code",
   "execution_count": 1,
   "metadata": {},
   "outputs": [
    {
     "name": "stderr",
     "output_type": "stream",
     "text": [
      "Loading required package: sp\n"
     ]
    }
   ],
   "source": [
    "library(neonUtilities)\n",
    "library(geoNEON)\n",
    "library(httr)\n",
    "library(jsonlite)\n",
    "library(downloader)\n",
    "library(raster)\n",
    "options(stringsAsFactors=F)"
   ]
  },
  {
   "cell_type": "markdown",
   "metadata": {},
   "source": [
    "## 1. Download plant data (only need to do this once)\n",
    "Download and stack canopy foliar & veg structure data."
   ]
  },
  {
   "cell_type": "code",
   "execution_count": 2,
   "metadata": {},
   "outputs": [
    {
     "name": "stdout",
     "output_type": "stream",
     "text": [
      "Continuing will download files totaling approximately 0.962841 MB. Do you want to proceed y/n: y\n",
      "22 files downloaded to /Users/clunch/Dropbox/data/filesToStack10026\n",
      "Continuing will download files totaling approximately 55.19048 MB. Do you want to proceed y/n: y\n",
      "308 files downloaded to /Users/clunch/Dropbox/data/filesToStack10098\n"
     ]
    }
   ],
   "source": [
    "zipsByProduct(dpID=\"DP1.10026.001\", site=\"all\", package=\"expanded\", savepath=\"/Users/clunch/Dropbox/data\")\n",
    "zipsByProduct(dpID=\"DP1.10098.001\", site=\"all\", package=\"basic\", savepath=\"/Users/clunch/Dropbox/data\")"
   ]
  },
  {
   "cell_type": "code",
   "execution_count": 3,
   "metadata": {},
   "outputs": [
    {
     "name": "stdout",
     "output_type": "stream",
     "text": [
      "Unpacking zip files\n",
      "  |======================================================================| 100%\n"
     ]
    },
    {
     "name": "stderr",
     "output_type": "stream",
     "text": [
      "Warning message in grep(labTables, filepaths):\n",
      "“argument 'pattern' has length > 1 and only the first element will be used”Warning message in grep(labTables, filenames):\n",
      "“argument 'pattern' has length > 1 and only the first element will be used”"
     ]
    },
    {
     "name": "stdout",
     "output_type": "stream",
     "text": [
      "Stacking table cfc_carbonNitrogen\n",
      "  |======================================================================| 100%\n",
      "Stacking table cfc_chemistrySubsampling\n",
      "  |======================================================================| 100%\n",
      "Stacking table cfc_chlorophyll\n",
      "  |======================================================================| 100%\n",
      "Stacking table cfc_elements\n",
      "  |======================================================================| 100%\n",
      "Stacking table cfc_fieldData\n",
      "  |======================================================================| 100%\n",
      "Stacking table cfc_lignin\n",
      "  |======================================================================| 100%\n",
      "Stacking table cfc_LMA\n",
      "  |======================================================================| 100%\n",
      "Finished: All of the data are stacked into  7  tables!\n",
      "Copied the first available NEON.EcoAnalysts_Inc..cfc_chlorophyllParameters.csv to /stackedFiles\n",
      "Copied the first available NEON.Brookhaven_National_Laboratory_Terrestrial_Ecosystem_Science_and_Technology_Group.cfc_chlorophyllParameters.csv to /stackedFiles\n",
      "Copied the first available variable definition file to /stackedFiles and renamed as variables.csv\n",
      "Copied the first available validation file to /stackedFiles and renamed as validation.csv\n",
      "Stacked cfc_carbonNitrogen which has 366 out of the expected 366 rows (100%).\n",
      "Stacked cfc_chemistrySubsampling which has 481 out of the expected 481 rows (100%).\n",
      "Stacked cfc_chlorophyll which has 510 out of the expected 510 rows (100%).\n",
      "Stacked cfc_elements which has 365 out of the expected 365 rows (100%).\n",
      "Stacked cfc_fieldData which has 501 out of the expected 501 rows (100%).\n",
      "Stacked cfc_lignin which has 359 out of the expected 359 rows (100%).\n",
      "Stacked cfc_LMA which has 478 out of the expected 478 rows (100%).\n",
      "Stacking took 2.214732 secs\n",
      "All unzipped monthly data folders have been removed.\n",
      "Unpacking zip files\n",
      "  |======================================================================| 100%\n",
      "Stacking table vst_mappingandtagging\n",
      "  |======================================================================| 100%\n",
      "Stacking table vst_perplotperyear\n",
      "  |======================================================================| 100%\n",
      "Stacking table vst_apparentindividual\n",
      "  |======================================================================| 100%\n",
      "Stacking table vst_shrubgroup\n",
      "  |======================================================================| 100%\n",
      "Finished: All of the data are stacked into  4  tables!\n",
      "Copied the first available variable definition file to /stackedFiles and renamed as variables.csv\n",
      "Copied the first available validation file to /stackedFiles and renamed as validation.csv\n",
      "Stacked vst_mappingandtagging which has 107775 out of the expected 107775 rows (100%).\n",
      "Stacked vst_perplotperyear which has 3595 out of the expected 3595 rows (100%).\n",
      "Stacked vst_apparentindividual which has 202545 out of the expected 202545 rows (100%).\n",
      "Stacked vst_shrubgroup which has 1904 out of the expected 1904 rows (100%).\n",
      "Stacking took 38.85454 secs\n",
      "All unzipped monthly data folders have been removed.\n"
     ]
    }
   ],
   "source": [
    "stackByTable(\"/Users/clunch/Dropbox/data/filesToStack10026\", folder=T)\n",
    "stackByTable(\"/Users/clunch/Dropbox/data/filesToStack10098\", folder=T)"
   ]
  },
  {
   "cell_type": "markdown",
   "metadata": {},
   "source": [
    "## 2. Load data\n",
    "Read in C/N, lignin, and field data from cfc; read in veg mapping and subset to sites sampled for cfc."
   ]
  },
  {
   "cell_type": "code",
   "execution_count": 2,
   "metadata": {},
   "outputs": [],
   "source": [
    "cfcField <- read.delim(\"/Users/clunch/Dropbox/data/filesToStack10026/stackedFiles/cfc_fieldData.csv\", sep=\",\")\n",
    "cfcCN <- read.delim(\"/Users/clunch/Dropbox/data/filesToStack10026/stackedFiles/cfc_carbonNitrogen.csv\", sep=\",\")\n",
    "cfcLignin <- read.delim(\"/Users/clunch/Dropbox/data/filesToStack10026/stackedFiles/cfc_lignin.csv\", sep=\",\")"
   ]
  },
  {
   "cell_type": "code",
   "execution_count": 3,
   "metadata": {},
   "outputs": [],
   "source": [
    "cfc <- merge(cfcField, cfcCN, by=c(\"sampleID\", \"namedLocation\", \"domainID\", \"siteID\", \"plotID\"))\n",
    "cfc <- merge(cfc, cfcLignin, by=c(\"sampleID\", \"namedLocation\", \"domainID\", \"siteID\", \"plotID\"))"
   ]
  },
  {
   "cell_type": "code",
   "execution_count": 4,
   "metadata": {},
   "outputs": [],
   "source": [
    "vegmap <- read.delim(\"/Users/clunch/Dropbox/data/filesToStack10098/stackedFiles/vst_mappingandtagging.csv\", sep=\",\")\n",
    "vegmap <- vegmap[which(vegmap$siteID %in% unique(cfc$siteID)),]"
   ]
  },
  {
   "cell_type": "markdown",
   "metadata": {},
   "source": [
    "Get precise locations of tagged individuals"
   ]
  },
  {
   "cell_type": "code",
   "execution_count": 5,
   "metadata": {},
   "outputs": [
    {
     "name": "stdout",
     "output_type": "stream",
     "text": [
      "\r",
      "  |                                                                            \r",
      "  |                                                                      |   0%"
     ]
    },
    {
     "name": "stderr",
     "output_type": "stream",
     "text": [
      "Warning message in geoNEON::def.extr.geo.os(data, locCol = locCol, locOnly = F):\n",
      "“WARNING: the following namedLocation was not found: GRSM_048.basePlot.vst.NA”"
     ]
    },
    {
     "name": "stdout",
     "output_type": "stream",
     "text": [
      "\r",
      "  |                                                                            \r",
      "  |                                                                      |   1%"
     ]
    },
    {
     "name": "stderr",
     "output_type": "stream",
     "text": [
      "Warning message in geoNEON::def.extr.geo.os(data, locCol = locCol, locOnly = F):\n",
      "“WARNING: the following namedLocation was not found: GRSM_057.basePlot.vst.NA”Warning message in geoNEON::def.extr.geo.os(data, locCol = locCol, locOnly = F):\n",
      "“WARNING: the following namedLocation was not found: GRSM_057.basePlot.vst.33”Warning message in geoNEON::def.extr.geo.os(data, locCol = locCol, locOnly = F):\n",
      "“WARNING: the following namedLocation was not found: GRSM_061.basePlot.vst.NA”"
     ]
    },
    {
     "name": "stdout",
     "output_type": "stream",
     "text": [
      "\r",
      "  |                                                                            \r",
      "  |=                                                                     |   1%"
     ]
    },
    {
     "name": "stderr",
     "output_type": "stream",
     "text": [
      "Warning message in geoNEON::def.extr.geo.os(data, locCol = locCol, locOnly = F):\n",
      "“WARNING: the following namedLocation was not found: GRSM_059.basePlot.vst.NA”Warning message in geoNEON::def.extr.geo.os(data, locCol = locCol, locOnly = F):\n",
      "“WARNING: the following namedLocation was not found: GRSM_058.basePlot.vst.NA”Warning message in geoNEON::def.extr.geo.os(data, locCol = locCol, locOnly = F):\n",
      "“WARNING: the following namedLocation was not found: GRSM_054.basePlot.vst.NA”Warning message in geoNEON::def.extr.geo.os(data, locCol = locCol, locOnly = F):\n",
      "“WARNING: the following namedLocation was not found: GRSM_052.basePlot.vst.NA”"
     ]
    },
    {
     "name": "stdout",
     "output_type": "stream",
     "text": [
      "\r",
      "  |                                                                            \r",
      "  |=                                                                     |   2%"
     ]
    },
    {
     "name": "stderr",
     "output_type": "stream",
     "text": [
      "Warning message in geoNEON::def.extr.geo.os(data, locCol = locCol, locOnly = F):\n",
      "“WARNING: the following namedLocation was not found: GRSM_049.basePlot.vst.NA”"
     ]
    },
    {
     "name": "stdout",
     "output_type": "stream",
     "text": [
      "\r",
      "  |                                                                            \r",
      "  |==                                                                    |   2%"
     ]
    },
    {
     "name": "stderr",
     "output_type": "stream",
     "text": [
      "Warning message in geoNEON::def.extr.geo.os(data, locCol = locCol, locOnly = F):\n",
      "“WARNING: the following namedLocation was not found: GRSM_064.basePlot.vst.NA”"
     ]
    },
    {
     "name": "stdout",
     "output_type": "stream",
     "text": [
      "\r",
      "  |                                                                            \r",
      "  |==                                                                    |   3%"
     ]
    },
    {
     "name": "stderr",
     "output_type": "stream",
     "text": [
      "Warning message in geoNEON::def.extr.geo.os(data, locCol = locCol, locOnly = F):\n",
      "“WARNING: the following namedLocation was not found: GRSM_065.basePlot.vst.NA”Warning message in geoNEON::def.extr.geo.os(data, locCol = locCol, locOnly = F):\n",
      "“WARNING: the following namedLocation was not found: GRSM_066.basePlot.vst.NA”Warning message in geoNEON::def.extr.geo.os(data, locCol = locCol, locOnly = F):\n",
      "“WARNING: the following namedLocation was not found: GRSM_056.basePlot.vst.NA”Warning message in geoNEON::def.extr.geo.os(data, locCol = locCol, locOnly = F):\n",
      "“WARNING: the following namedLocation was not found: GRSM_047.basePlot.vst.NA”Warning message in geoNEON::def.extr.geo.os(data, locCol = locCol, locOnly = F):\n",
      "“WARNING: the following namedLocation was not found: GRSM_063.basePlot.vst.NA”"
     ]
    },
    {
     "name": "stdout",
     "output_type": "stream",
     "text": [
      "  |===                                                                   |   4%"
     ]
    },
    {
     "name": "stderr",
     "output_type": "stream",
     "text": [
      "Warning message in geoNEON::def.extr.geo.os(data, locCol = locCol, locOnly = F):\n",
      "“WARNING: the following namedLocation was not found: GRSM_053.basePlot.vst.NA”Warning message in geoNEON::def.extr.geo.os(data, locCol = locCol, locOnly = F):\n",
      "“WARNING: the following namedLocation was not found: GRSM_055.basePlot.vst.NA”Warning message in geoNEON::def.extr.geo.os(data, locCol = locCol, locOnly = F):\n",
      "“WARNING: the following namedLocation was not found: GRSM_062.basePlot.vst.NA”"
     ]
    },
    {
     "name": "stdout",
     "output_type": "stream",
     "text": [
      "\r",
      "  |                                                                            \r",
      "  |===                                                                   |   5%"
     ]
    },
    {
     "name": "stderr",
     "output_type": "stream",
     "text": [
      "Warning message in geoNEON::def.extr.geo.os(data, locCol = locCol, locOnly = F):\n",
      "“WARNING: the following namedLocation was not found: GRSM_060.basePlot.vst.NA”Warning message in geoNEON::def.extr.geo.os(data, locCol = locCol, locOnly = F):\n",
      "“WARNING: the following namedLocation was not found: GRSM_050.basePlot.vst.NA”"
     ]
    },
    {
     "name": "stdout",
     "output_type": "stream",
     "text": [
      "\r",
      "  |                                                                            \r",
      "  |====                                                                  |   5%"
     ]
    },
    {
     "name": "stderr",
     "output_type": "stream",
     "text": [
      "Warning message in geoNEON::def.extr.geo.os(data, locCol = locCol, locOnly = F):\n",
      "“WARNING: the following namedLocation was not found: GRSM_060.basePlot.vst.42”Warning message in geoNEON::def.extr.geo.os(data, locCol = locCol, locOnly = F):\n",
      "“WARNING: the following namedLocation was not found: GRSM_050.basePlot.vst.40”Warning message in geoNEON::def.extr.geo.os(data, locCol = locCol, locOnly = F):\n",
      "“WARNING: the following namedLocation was not found: GRSM_051.basePlot.vst.NA”"
     ]
    },
    {
     "name": "stdout",
     "output_type": "stream",
     "text": [
      "\r",
      "  |                                                                            \r",
      "  |====                                                                  |   6%"
     ]
    },
    {
     "name": "stderr",
     "output_type": "stream",
     "text": [
      "Warning message in geoNEON::def.extr.geo.os(data, locCol = locCol, locOnly = F):\n",
      "“WARNING: the following namedLocation was not found: GRSM_051.basePlot.vst.258”Warning message in geoNEON::def.extr.geo.os(data, locCol = locCol, locOnly = F):\n",
      "“WARNING: the following namedLocation was not found: GRSM_006.basePlot.vst.NA”Warning message in geoNEON::def.extr.geo.os(data, locCol = locCol, locOnly = F):\n",
      "“WARNING: the following namedLocation was not found: GRSM_019.basePlot.vst.NA”"
     ]
    },
    {
     "name": "stdout",
     "output_type": "stream",
     "text": [
      "  |=====                                                                 |   7%"
     ]
    },
    {
     "name": "stderr",
     "output_type": "stream",
     "text": [
      "Warning message in geoNEON::def.extr.geo.os(data, locCol = locCol, locOnly = F):\n",
      "“WARNING: the following namedLocation was not found: GRSM_013.basePlot.vst.NA”Warning message in geoNEON::def.extr.geo.os(data, locCol = locCol, locOnly = F):\n",
      "“WARNING: the following namedLocation was not found: GRSM_004.basePlot.vst.NA”Warning message in geoNEON::def.extr.geo.os(data, locCol = locCol, locOnly = F):\n",
      "“WARNING: the following namedLocation was not found: GRSM_001.basePlot.vst.NA”Warning message in geoNEON::def.extr.geo.os(data, locCol = locCol, locOnly = F):\n",
      "“WARNING: the following namedLocation was not found: GRSM_017.basePlot.vst.NA”Warning message in geoNEON::def.extr.geo.os(data, locCol = locCol, locOnly = F):\n",
      "“WARNING: the following namedLocation was not found: GRSM_003.basePlot.vst.NA”Warning message in geoNEON::def.extr.geo.os(data, locCol = locCol, locOnly = F):\n",
      "“WARNING: the following namedLocation was not found: GRSM_009.basePlot.vst.NA”"
     ]
    },
    {
     "name": "stdout",
     "output_type": "stream",
     "text": [
      "\r",
      "  |                                                                            \r",
      "  |=====                                                                 |   8%"
     ]
    },
    {
     "name": "stderr",
     "output_type": "stream",
     "text": [
      "Warning message in geoNEON::def.extr.geo.os(data, locCol = locCol, locOnly = F):\n",
      "“WARNING: the following namedLocation was not found: GRSM_010.basePlot.vst.NA”Warning message in geoNEON::def.extr.geo.os(data, locCol = locCol, locOnly = F):\n",
      "“WARNING: the following namedLocation was not found: GRSM_005.basePlot.vst.NA”"
     ]
    },
    {
     "name": "stdout",
     "output_type": "stream",
     "text": [
      "\r",
      "  |                                                                            \r",
      "  |======                                                                |   8%"
     ]
    },
    {
     "name": "stderr",
     "output_type": "stream",
     "text": [
      "Warning message in geoNEON::def.extr.geo.os(data, locCol = locCol, locOnly = F):\n",
      "“WARNING: the following namedLocation was not found: GRSM_015.basePlot.vst.NA”Warning message in geoNEON::def.extr.geo.os(data, locCol = locCol, locOnly = F):\n",
      "“WARNING: the following namedLocation was not found: GRSM_016.basePlot.vst.NA”Warning message in geoNEON::def.extr.geo.os(data, locCol = locCol, locOnly = F):\n",
      "“WARNING: the following namedLocation was not found: GRSM_025.basePlot.vst.NA”"
     ]
    },
    {
     "name": "stdout",
     "output_type": "stream",
     "text": [
      "\r",
      "  |                                                                            \r",
      "  |======                                                                |   9%"
     ]
    },
    {
     "name": "stderr",
     "output_type": "stream",
     "text": [
      "Warning message in geoNEON::def.extr.geo.os(data, locCol = locCol, locOnly = F):\n",
      "“WARNING: the following namedLocation was not found: GRSM_011.basePlot.vst.NA”Warning message in geoNEON::def.extr.geo.os(data, locCol = locCol, locOnly = F):\n",
      "“WARNING: the following namedLocation was not found: GRSM_018.basePlot.vst.NA”Warning message in geoNEON::def.extr.geo.os(data, locCol = locCol, locOnly = F):\n",
      "“WARNING: the following namedLocation was not found: GRSM_002.basePlot.vst.NA”Warning message in geoNEON::def.extr.geo.os(data, locCol = locCol, locOnly = F):\n",
      "“WARNING: the following namedLocation was not found: GRSM_008.basePlot.vst.NA”Warning message in geoNEON::def.extr.geo.os(data, locCol = locCol, locOnly = F):\n",
      "“WARNING: the following namedLocation was not found: GRSM_007.basePlot.vst.NA”"
     ]
    },
    {
     "name": "stdout",
     "output_type": "stream",
     "text": [
      "\r",
      "  |                                                                            \r",
      "  |=======                                                               |   9%"
     ]
    },
    {
     "name": "stderr",
     "output_type": "stream",
     "text": [
      "Warning message in geoNEON::def.extr.geo.os(data, locCol = locCol, locOnly = F):\n",
      "“WARNING: the following namedLocation was not found: GRSM_014.basePlot.vst.NA”"
     ]
    },
    {
     "name": "stdout",
     "output_type": "stream",
     "text": [
      "\r",
      "  |                                                                            \r",
      "  |=======                                                               |  10%"
     ]
    },
    {
     "name": "stderr",
     "output_type": "stream",
     "text": [
      "Warning message in geoNEON::def.extr.geo.os(data, locCol = locCol, locOnly = F):\n",
      "“WARNING: the following namedLocation was not found: GRSM_012.basePlot.vst.NA”Warning message in geoNEON::def.extr.geo.os(data, locCol = locCol, locOnly = F):\n",
      "“WARNING: the following namedLocation was not found: JORN_053.basePlot.vst.NA”Warning message in geoNEON::def.extr.geo.os(data, locCol = locCol, locOnly = F):\n",
      "“WARNING: the following namedLocation was not found: JORN_066.basePlot.vst.NA”Warning message in geoNEON::def.extr.geo.os(data, locCol = locCol, locOnly = F):\n",
      "“WARNING: the following namedLocation was not found: JORN_060.basePlot.vst.NA”"
     ]
    },
    {
     "name": "stdout",
     "output_type": "stream",
     "text": [
      "  |========                                                              |  12%"
     ]
    },
    {
     "name": "stderr",
     "output_type": "stream",
     "text": [
      "Warning message in geoNEON::def.extr.geo.os(data, locCol = locCol, locOnly = F):\n",
      "“WARNING: the following namedLocation was not found: JORN_008.basePlot.vst.NA”Warning message in geoNEON::def.extr.geo.os(data, locCol = locCol, locOnly = F):\n",
      "“WARNING: the following namedLocation was not found: JORN_016.basePlot.vst.NA”"
     ]
    },
    {
     "name": "stdout",
     "output_type": "stream",
     "text": [
      "\r",
      "  |                                                                            \r",
      "  |=========                                                             |  12%"
     ]
    },
    {
     "name": "stderr",
     "output_type": "stream",
     "text": [
      "Warning message in geoNEON::def.extr.geo.os(data, locCol = locCol, locOnly = F):\n",
      "“WARNING: the following namedLocation was not found: JORN_012.basePlot.vst.NA”Warning message in geoNEON::def.extr.geo.os(data, locCol = locCol, locOnly = F):\n",
      "“WARNING: the following namedLocation was not found: JORN_015.basePlot.vst.NA”"
     ]
    },
    {
     "name": "stdout",
     "output_type": "stream",
     "text": [
      "\r",
      "  |                                                                            \r",
      "  |=========                                                             |  13%"
     ]
    },
    {
     "name": "stderr",
     "output_type": "stream",
     "text": [
      "Warning message in geoNEON::def.extr.geo.os(data, locCol = locCol, locOnly = F):\n",
      "“WARNING: the following namedLocation was not found: JORN_054.basePlot.vst.NA”Warning message in geoNEON::def.extr.geo.os(data, locCol = locCol, locOnly = F):\n",
      "“WARNING: the following namedLocation was not found: JORN_050.basePlot.vst.NA”Warning message in geoNEON::def.extr.geo.os(data, locCol = locCol, locOnly = F):\n",
      "“WARNING: the following namedLocation was not found: JORN_042.basePlot.vst.NA”"
     ]
    },
    {
     "name": "stdout",
     "output_type": "stream",
     "text": [
      "  |===========                                                           |  16%"
     ]
    },
    {
     "name": "stderr",
     "output_type": "stream",
     "text": [
      "Warning message in geoNEON::def.extr.geo.os(data, locCol = locCol, locOnly = F):\n",
      "“WARNING: the following namedLocation was not found: JORN_055.basePlot.vst.NA”"
     ]
    },
    {
     "name": "stdout",
     "output_type": "stream",
     "text": [
      "  |============                                                          |  17%"
     ]
    },
    {
     "name": "stderr",
     "output_type": "stream",
     "text": [
      "Warning message in geoNEON::def.extr.geo.os(data, locCol = locCol, locOnly = F):\n",
      "“WARNING: the following namedLocation was not found: KONZ_049.basePlot.vst.NA”"
     ]
    },
    {
     "name": "stdout",
     "output_type": "stream",
     "text": [
      "\r",
      "  |                                                                            \r",
      "  |============                                                          |  18%"
     ]
    },
    {
     "name": "stderr",
     "output_type": "stream",
     "text": [
      "Warning message in geoNEON::def.extr.geo.os(data, locCol = locCol, locOnly = F):\n",
      "“WARNING: the following namedLocation was not found: KONZ_049.basePlot.vst.50”Warning message in geoNEON::def.extr.geo.os(data, locCol = locCol, locOnly = F):\n",
      "“WARNING: the following namedLocation was not found: KONZ_059.basePlot.vst.NA”"
     ]
    },
    {
     "name": "stdout",
     "output_type": "stream",
     "text": [
      "\r",
      "  |                                                                            \r",
      "  |=============                                                         |  18%"
     ]
    },
    {
     "name": "stderr",
     "output_type": "stream",
     "text": [
      "Warning message in geoNEON::def.extr.geo.os(data, locCol = locCol, locOnly = F):\n",
      "“WARNING: the following namedLocation was not found: KONZ_067.basePlot.vst.NA”Warning message in geoNEON::def.extr.geo.os(data, locCol = locCol, locOnly = F):\n",
      "“WARNING: the following namedLocation was not found: KONZ_046.basePlot.vst.NA”"
     ]
    },
    {
     "name": "stdout",
     "output_type": "stream",
     "text": [
      "\r",
      "  |                                                                            \r",
      "  |=============                                                         |  19%"
     ]
    },
    {
     "name": "stderr",
     "output_type": "stream",
     "text": [
      "Warning message in geoNEON::def.extr.geo.os(data, locCol = locCol, locOnly = F):\n",
      "“WARNING: the following namedLocation was not found: KONZ_063.basePlot.vst.NA”Warning message in geoNEON::def.extr.geo.os(data, locCol = locCol, locOnly = F):\n",
      "“WARNING: the following namedLocation was not found: KONZ_050.basePlot.vst.NA”Warning message in geoNEON::def.extr.geo.os(data, locCol = locCol, locOnly = F):\n",
      "“WARNING: the following namedLocation was not found: KONZ_053.basePlot.vst.NA”"
     ]
    },
    {
     "name": "stdout",
     "output_type": "stream",
     "text": [
      "\r",
      "  |                                                                            \r",
      "  |==============                                                        |  19%"
     ]
    },
    {
     "name": "stderr",
     "output_type": "stream",
     "text": [
      "Warning message in geoNEON::def.extr.geo.os(data, locCol = locCol, locOnly = F):\n",
      "“WARNING: the following namedLocation was not found: KONZ_069.basePlot.vst.NA”Warning message in geoNEON::def.extr.geo.os(data, locCol = locCol, locOnly = F):\n",
      "“WARNING: the following namedLocation was not found: KONZ_061.basePlot.vst.NA”"
     ]
    },
    {
     "name": "stdout",
     "output_type": "stream",
     "text": [
      "\r",
      "  |                                                                            \r",
      "  |==============                                                        |  20%"
     ]
    },
    {
     "name": "stderr",
     "output_type": "stream",
     "text": [
      "Warning message in geoNEON::def.extr.geo.os(data, locCol = locCol, locOnly = F):\n",
      "“WARNING: the following namedLocation was not found: KONZ_064.basePlot.vst.NA”Warning message in geoNEON::def.extr.geo.os(data, locCol = locCol, locOnly = F):\n",
      "“WARNING: the following namedLocation was not found: KONZ_065.basePlot.vst.NA”Warning message in geoNEON::def.extr.geo.os(data, locCol = locCol, locOnly = F):\n",
      "“WARNING: the following namedLocation was not found: KONZ_056.basePlot.vst.NA”Warning message in geoNEON::def.extr.geo.os(data, locCol = locCol, locOnly = F):\n",
      "“WARNING: the following namedLocation was not found: KONZ_055.basePlot.vst.NA”Warning message in geoNEON::def.extr.geo.os(data, locCol = locCol, locOnly = F):\n",
      "“WARNING: the following namedLocation was not found: KONZ_054.basePlot.vst.NA”Warning message in geoNEON::def.extr.geo.os(data, locCol = locCol, locOnly = F):\n",
      "“WARNING: the following namedLocation was not found: KONZ_070.basePlot.vst.NA”Warning message in geoNEON::def.extr.geo.os(data, locCol = locCol, locOnly = F):\n",
      "“WARNING: the following namedLocation was not found: KONZ_058.basePlot.vst.NA”"
     ]
    },
    {
     "name": "stdout",
     "output_type": "stream",
     "text": [
      "\r",
      "  |                                                                            \r",
      "  |==============                                                        |  21%"
     ]
    },
    {
     "name": "stderr",
     "output_type": "stream",
     "text": [
      "Warning message in geoNEON::def.extr.geo.os(data, locCol = locCol, locOnly = F):\n",
      "“WARNING: the following namedLocation was not found: KONZ_060.basePlot.vst.NA”Warning message in geoNEON::def.extr.geo.os(data, locCol = locCol, locOnly = F):\n",
      "“WARNING: the following namedLocation was not found: KONZ_048.basePlot.vst.NA”"
     ]
    },
    {
     "name": "stdout",
     "output_type": "stream",
     "text": [
      "\r",
      "  |                                                                            \r",
      "  |===============                                                       |  21%"
     ]
    },
    {
     "name": "stderr",
     "output_type": "stream",
     "text": [
      "Warning message in geoNEON::def.extr.geo.os(data, locCol = locCol, locOnly = F):\n",
      "“WARNING: the following namedLocation was not found: KONZ_045.basePlot.vst.NA”Warning message in geoNEON::def.extr.geo.os(data, locCol = locCol, locOnly = F):\n",
      "“WARNING: the following namedLocation was not found: KONZ_044.basePlot.vst.NA”Warning message in geoNEON::def.extr.geo.os(data, locCol = locCol, locOnly = F):\n",
      "“WARNING: the following namedLocation was not found: KONZ_042.basePlot.vst.NA”Warning message in geoNEON::def.extr.geo.os(data, locCol = locCol, locOnly = F):\n",
      "“WARNING: the following namedLocation was not found: KONZ_068.basePlot.vst.NA”Warning message in geoNEON::def.extr.geo.os(data, locCol = locCol, locOnly = F):\n",
      "“WARNING: the following namedLocation was not found: KONZ_051.basePlot.vst.NA”Warning message in geoNEON::def.extr.geo.os(data, locCol = locCol, locOnly = F):\n",
      "“WARNING: the following namedLocation was not found: KONZ_043.basePlot.vst.NA”Warning message in geoNEON::def.extr.geo.os(data, locCol = locCol, locOnly = F):\n",
      "“WARNING: the following namedLocation was not found: KONZ_057.basePlot.vst.NA”Warning message in geoNEON::def.extr.geo.os(data, locCol = locCol, locOnly = F):\n",
      "“WARNING: the following namedLocation was not found: KONZ_062.basePlot.vst.NA”Warning message in geoNEON::def.extr.geo.os(data, locCol = locCol, locOnly = F):\n",
      "“WARNING: the following namedLocation was not found: KONZ_071.basePlot.vst.NA”Warning message in geoNEON::def.extr.geo.os(data, locCol = locCol, locOnly = F):\n",
      "“WARNING: the following namedLocation was not found: KONZ_047.basePlot.vst.NA”"
     ]
    },
    {
     "name": "stdout",
     "output_type": "stream",
     "text": [
      "  |==================                                                    |  26%"
     ]
    },
    {
     "name": "stderr",
     "output_type": "stream",
     "text": [
      "Warning message in geoNEON::def.extr.geo.os(data, locCol = locCol, locOnly = F):\n",
      "“WARNING: the following namedLocation was not found: KONZ_025.basePlot.vst.NA”Warning message in geoNEON::def.extr.geo.os(data, locCol = locCol, locOnly = F):\n",
      "“WARNING: the following namedLocation was not found: KONZ_024.basePlot.vst.NA”"
     ]
    },
    {
     "name": "stdout",
     "output_type": "stream",
     "text": [
      "  |==========================                                            |  38%"
     ]
    },
    {
     "name": "stderr",
     "output_type": "stream",
     "text": [
      "Warning message in geoNEON::def.extr.geo.os(data, locCol = locCol, locOnly = F):\n",
      "“WARNING: the following namedLocation was not found: MOAB_024.basePlot.vst.NA”"
     ]
    },
    {
     "name": "stdout",
     "output_type": "stream",
     "text": [
      "\r",
      "  |                                                                            \r",
      "  |===========================                                           |  38%"
     ]
    },
    {
     "name": "stderr",
     "output_type": "stream",
     "text": [
      "Warning message in geoNEON::def.extr.geo.os(data, locCol = locCol, locOnly = F):\n",
      "“WARNING: the following namedLocation was not found: MOAB_025.basePlot.vst.NA”Warning message in geoNEON::def.extr.geo.os(data, locCol = locCol, locOnly = F):\n",
      "“WARNING: the following namedLocation was not found: MOAB_003.basePlot.vst.NA”"
     ]
    },
    {
     "name": "stdout",
     "output_type": "stream",
     "text": [
      "\r",
      "  |                                                                            \r",
      "  |===========================                                           |  39%"
     ]
    },
    {
     "name": "stderr",
     "output_type": "stream",
     "text": [
      "Warning message in geoNEON::def.extr.geo.os(data, locCol = locCol, locOnly = F):\n",
      "“WARNING: the following namedLocation was not found: ORNL_036.basePlot.vst.NA”Warning message in geoNEON::def.extr.geo.os(data, locCol = locCol, locOnly = F):\n",
      "“WARNING: the following namedLocation was not found: ORNL_037.basePlot.vst.NA”"
     ]
    },
    {
     "name": "stdout",
     "output_type": "stream",
     "text": [
      "\r",
      "  |                                                                            \r",
      "  |============================                                          |  39%"
     ]
    },
    {
     "name": "stderr",
     "output_type": "stream",
     "text": [
      "Warning message in geoNEON::def.extr.geo.os(data, locCol = locCol, locOnly = F):\n",
      "“WARNING: the following namedLocation was not found: ORNL_043.basePlot.vst.NA”"
     ]
    },
    {
     "name": "stdout",
     "output_type": "stream",
     "text": [
      "\r",
      "  |                                                                            \r",
      "  |============================                                          |  40%"
     ]
    },
    {
     "name": "stderr",
     "output_type": "stream",
     "text": [
      "Warning message in geoNEON::def.extr.geo.os(data, locCol = locCol, locOnly = F):\n",
      "“WARNING: the following namedLocation was not found: ORNL_012.basePlot.vst.NA”Warning message in geoNEON::def.extr.geo.os(data, locCol = locCol, locOnly = F):\n",
      "“WARNING: the following namedLocation was not found: ORNL_003.basePlot.vst.NA”Warning message in geoNEON::def.extr.geo.os(data, locCol = locCol, locOnly = F):\n",
      "“WARNING: the following namedLocation was not found: ORNL_004.basePlot.vst.NA”Warning message in geoNEON::def.extr.geo.os(data, locCol = locCol, locOnly = F):\n",
      "“WARNING: the following namedLocation was not found: ORNL_014.basePlot.vst.NA”Warning message in geoNEON::def.extr.geo.os(data, locCol = locCol, locOnly = F):\n",
      "“WARNING: the following namedLocation was not found: ORNL_002.basePlot.vst.NA”"
     ]
    },
    {
     "name": "stdout",
     "output_type": "stream",
     "text": [
      "  |=============================                                         |  41%"
     ]
    },
    {
     "name": "stderr",
     "output_type": "stream",
     "text": [
      "Warning message in geoNEON::def.extr.geo.os(data, locCol = locCol, locOnly = F):\n",
      "“WARNING: the following namedLocation was not found: ORNL_008.basePlot.vst.NA”Warning message in geoNEON::def.extr.geo.os(data, locCol = locCol, locOnly = F):\n",
      "“WARNING: the following namedLocation was not found: ORNL_032.basePlot.vst.NA”Warning message in geoNEON::def.extr.geo.os(data, locCol = locCol, locOnly = F):\n",
      "“WARNING: the following namedLocation was not found: ORNL_035.basePlot.vst.NA”Warning message in geoNEON::def.extr.geo.os(data, locCol = locCol, locOnly = F):\n",
      "“WARNING: the following namedLocation was not found: ORNL_033.basePlot.vst.NA”"
     ]
    },
    {
     "name": "stdout",
     "output_type": "stream",
     "text": [
      "  |==============================                                        |  42%"
     ]
    },
    {
     "name": "stderr",
     "output_type": "stream",
     "text": [
      "Warning message in geoNEON::def.extr.geo.os(data, locCol = locCol, locOnly = F):\n",
      "“WARNING: the following namedLocation was not found: ORNL_009.basePlot.vst.NA”Warning message in geoNEON::def.extr.geo.os(data, locCol = locCol, locOnly = F):\n",
      "“WARNING: the following namedLocation was not found: ORNL_010.basePlot.vst.NA”"
     ]
    },
    {
     "name": "stdout",
     "output_type": "stream",
     "text": [
      "\r",
      "  |                                                                            \r",
      "  |==============================                                        |  43%"
     ]
    },
    {
     "name": "stderr",
     "output_type": "stream",
     "text": [
      "Warning message in geoNEON::def.extr.geo.os(data, locCol = locCol, locOnly = F):\n",
      "“WARNING: the following namedLocation was not found: ORNL_001.basePlot.vst.NA”Warning message in geoNEON::def.extr.geo.os(data, locCol = locCol, locOnly = F):\n",
      "“WARNING: the following namedLocation was not found: ORNL_006.basePlot.vst.NA”Warning message in geoNEON::def.extr.geo.os(data, locCol = locCol, locOnly = F):\n",
      "“WARNING: the following namedLocation was not found: ORNL_029.basePlot.vst.NA”"
     ]
    },
    {
     "name": "stdout",
     "output_type": "stream",
     "text": [
      "\r",
      "  |                                                                            \r",
      "  |===============================                                       |  44%"
     ]
    },
    {
     "name": "stderr",
     "output_type": "stream",
     "text": [
      "Warning message in geoNEON::def.extr.geo.os(data, locCol = locCol, locOnly = F):\n",
      "“WARNING: the following namedLocation was not found: ORNL_007.basePlot.vst.NA”Warning message in geoNEON::def.extr.geo.os(data, locCol = locCol, locOnly = F):\n",
      "“WARNING: the following namedLocation was not found: ORNL_027.basePlot.vst.NA”"
     ]
    },
    {
     "name": "stdout",
     "output_type": "stream",
     "text": [
      "\r",
      "  |                                                                            \r",
      "  |===============================                                       |  45%"
     ]
    },
    {
     "name": "stderr",
     "output_type": "stream",
     "text": [
      "Warning message in geoNEON::def.extr.geo.os(data, locCol = locCol, locOnly = F):\n",
      "“WARNING: the following namedLocation was not found: ORNL_057.basePlot.vst.NA”"
     ]
    },
    {
     "name": "stdout",
     "output_type": "stream",
     "text": [
      "\r",
      "  |                                                                            \r",
      "  |================================                                      |  45%"
     ]
    },
    {
     "name": "stderr",
     "output_type": "stream",
     "text": [
      "Warning message in geoNEON::def.extr.geo.os(data, locCol = locCol, locOnly = F):\n",
      "“WARNING: the following namedLocation was not found: ORNL_062.basePlot.vst.NA”Warning message in geoNEON::def.extr.geo.os(data, locCol = locCol, locOnly = F):\n",
      "“WARNING: the following namedLocation was not found: ORNL_049.basePlot.vst.NA”"
     ]
    },
    {
     "name": "stdout",
     "output_type": "stream",
     "text": [
      "\r",
      "  |                                                                            \r",
      "  |================================                                      |  46%"
     ]
    },
    {
     "name": "stderr",
     "output_type": "stream",
     "text": [
      "Warning message in geoNEON::def.extr.geo.os(data, locCol = locCol, locOnly = F):\n",
      "“WARNING: the following namedLocation was not found: ORNL_055.basePlot.vst.NA”Warning message in geoNEON::def.extr.geo.os(data, locCol = locCol, locOnly = F):\n",
      "“WARNING: the following namedLocation was not found: ORNL_046.basePlot.vst.NA”Warning message in geoNEON::def.extr.geo.os(data, locCol = locCol, locOnly = F):\n",
      "“WARNING: the following namedLocation was not found: ORNL_061.basePlot.vst.NA”"
     ]
    },
    {
     "name": "stdout",
     "output_type": "stream",
     "text": [
      "\r",
      "  |                                                                            \r",
      "  |=================================                                     |  46%"
     ]
    },
    {
     "name": "stderr",
     "output_type": "stream",
     "text": [
      "Warning message in geoNEON::def.extr.geo.os(data, locCol = locCol, locOnly = F):\n",
      "“WARNING: the following namedLocation was not found: ORNL_058.basePlot.vst.NA”"
     ]
    },
    {
     "name": "stdout",
     "output_type": "stream",
     "text": [
      "\r",
      "  |                                                                            \r",
      "  |=================================                                     |  47%"
     ]
    },
    {
     "name": "stderr",
     "output_type": "stream",
     "text": [
      "Warning message in geoNEON::def.extr.geo.os(data, locCol = locCol, locOnly = F):\n",
      "“WARNING: the following namedLocation was not found: ORNL_051.basePlot.vst.NA”Warning message in geoNEON::def.extr.geo.os(data, locCol = locCol, locOnly = F):\n",
      "“WARNING: the following namedLocation was not found: ORNL_050.basePlot.vst.NA”Warning message in geoNEON::def.extr.geo.os(data, locCol = locCol, locOnly = F):\n",
      "“WARNING: the following namedLocation was not found: ORNL_052.basePlot.vst.NA”"
     ]
    },
    {
     "name": "stdout",
     "output_type": "stream",
     "text": [
      "\r",
      "  |                                                                            \r",
      "  |=================================                                     |  48%"
     ]
    },
    {
     "name": "stderr",
     "output_type": "stream",
     "text": [
      "Warning message in geoNEON::def.extr.geo.os(data, locCol = locCol, locOnly = F):\n",
      "“WARNING: the following namedLocation was not found: ORNL_045.basePlot.vst.NA”Warning message in geoNEON::def.extr.geo.os(data, locCol = locCol, locOnly = F):\n",
      "“WARNING: the following namedLocation was not found: ORNL_059.basePlot.vst.NA”"
     ]
    },
    {
     "name": "stdout",
     "output_type": "stream",
     "text": [
      "\r",
      "  |                                                                            \r",
      "  |==================================                                    |  48%"
     ]
    },
    {
     "name": "stderr",
     "output_type": "stream",
     "text": [
      "Warning message in geoNEON::def.extr.geo.os(data, locCol = locCol, locOnly = F):\n",
      "“WARNING: the following namedLocation was not found: ORNL_063.basePlot.vst.NA”Warning message in geoNEON::def.extr.geo.os(data, locCol = locCol, locOnly = F):\n",
      "“WARNING: the following namedLocation was not found: ORNL_056.basePlot.vst.NA”"
     ]
    },
    {
     "name": "stdout",
     "output_type": "stream",
     "text": [
      "\r",
      "  |                                                                            \r",
      "  |==================================                                    |  49%"
     ]
    },
    {
     "name": "stderr",
     "output_type": "stream",
     "text": [
      "Warning message in geoNEON::def.extr.geo.os(data, locCol = locCol, locOnly = F):\n",
      "“WARNING: the following namedLocation was not found: ORNL_053.basePlot.vst.NA”Warning message in geoNEON::def.extr.geo.os(data, locCol = locCol, locOnly = F):\n",
      "“WARNING: the following namedLocation was not found: ORNL_054.basePlot.vst.NA”Warning message in geoNEON::def.extr.geo.os(data, locCol = locCol, locOnly = F):\n",
      "“WARNING: the following namedLocation was not found: ORNL_060.basePlot.vst.NA”"
     ]
    },
    {
     "name": "stdout",
     "output_type": "stream",
     "text": [
      "\r",
      "  |                                                                            \r",
      "  |===================================                                   |  49%"
     ]
    },
    {
     "name": "stderr",
     "output_type": "stream",
     "text": [
      "Warning message in geoNEON::def.extr.geo.os(data, locCol = locCol, locOnly = F):\n",
      "“WARNING: the following namedLocation was not found: ORNL_021.basePlot.vst.NA”"
     ]
    },
    {
     "name": "stdout",
     "output_type": "stream",
     "text": [
      "\r",
      "  |                                                                            \r",
      "  |===================================                                   |  50%"
     ]
    },
    {
     "name": "stderr",
     "output_type": "stream",
     "text": [
      "Warning message in geoNEON::def.extr.geo.os(data, locCol = locCol, locOnly = F):\n",
      "“WARNING: the following namedLocation was not found: ORNL_031.basePlot.vst.NA”Warning message in geoNEON::def.extr.geo.os(data, locCol = locCol, locOnly = F):\n",
      "“WARNING: the following namedLocation was not found: ORNL_044.basePlot.vst.NA”Warning message in geoNEON::def.extr.geo.os(data, locCol = locCol, locOnly = F):\n",
      "“WARNING: the following namedLocation was not found: ORNL_066.basePlot.vst.NA”"
     ]
    },
    {
     "name": "stdout",
     "output_type": "stream",
     "text": [
      "\r",
      "  |                                                                            \r",
      "  |===================================                                   |  51%"
     ]
    },
    {
     "name": "stderr",
     "output_type": "stream",
     "text": [
      "Warning message in geoNEON::def.extr.geo.os(data, locCol = locCol, locOnly = F):\n",
      "“WARNING: the following namedLocation was not found: ORNL_029.basePlot.vst.32”"
     ]
    },
    {
     "name": "stdout",
     "output_type": "stream",
     "text": [
      "  |=====================================                                 |  52%"
     ]
    },
    {
     "name": "stderr",
     "output_type": "stream",
     "text": [
      "Warning message in geoNEON::def.extr.geo.os(data, locCol = locCol, locOnly = F):\n",
      "“WARNING: the following namedLocation was not found: SCBI_013.basePlot.vst.NA”Warning message in geoNEON::def.extr.geo.os(data, locCol = locCol, locOnly = F):\n",
      "“WARNING: the following namedLocation was not found: SCBI_008.basePlot.vst.NA”"
     ]
    },
    {
     "name": "stdout",
     "output_type": "stream",
     "text": [
      "\r",
      "  |                                                                            \r",
      "  |=====================================                                 |  53%"
     ]
    },
    {
     "name": "stderr",
     "output_type": "stream",
     "text": [
      "Warning message in geoNEON::def.extr.geo.os(data, locCol = locCol, locOnly = F):\n",
      "“WARNING: the following namedLocation was not found: SCBI_004.basePlot.vst.NA”Warning message in geoNEON::def.extr.geo.os(data, locCol = locCol, locOnly = F):\n",
      "“WARNING: the following namedLocation was not found: SCBI_015.basePlot.vst.NA”"
     ]
    },
    {
     "name": "stdout",
     "output_type": "stream",
     "text": [
      "  |======================================                                |  54%"
     ]
    },
    {
     "name": "stderr",
     "output_type": "stream",
     "text": [
      "Warning message in geoNEON::def.extr.geo.os(data, locCol = locCol, locOnly = F):\n",
      "“WARNING: the following namedLocation was not found: SCBI_017.basePlot.vst.NA”"
     ]
    },
    {
     "name": "stdout",
     "output_type": "stream",
     "text": [
      "\r",
      "  |                                                                            \r",
      "  |======================================                                |  55%"
     ]
    },
    {
     "name": "stderr",
     "output_type": "stream",
     "text": [
      "Warning message in geoNEON::def.extr.geo.os(data, locCol = locCol, locOnly = F):\n",
      "“WARNING: the following namedLocation was not found: SCBI_007.basePlot.vst.NA”Warning message in geoNEON::def.extr.geo.os(data, locCol = locCol, locOnly = F):\n",
      "“WARNING: the following namedLocation was not found: SCBI_018.basePlot.vst.NA”"
     ]
    },
    {
     "name": "stdout",
     "output_type": "stream",
     "text": [
      "  |=======================================                               |  56%"
     ]
    },
    {
     "name": "stderr",
     "output_type": "stream",
     "text": [
      "Warning message in geoNEON::def.extr.geo.os(data, locCol = locCol, locOnly = F):\n",
      "“WARNING: the following namedLocation was not found: SCBI_016.basePlot.vst.NA”Warning message in geoNEON::def.extr.geo.os(data, locCol = locCol, locOnly = F):\n",
      "“WARNING: the following namedLocation was not found: SCBI_003.basePlot.vst.NA”Warning message in geoNEON::def.extr.geo.os(data, locCol = locCol, locOnly = F):\n",
      "“WARNING: the following namedLocation was not found: SCBI_011.basePlot.vst.NA”"
     ]
    },
    {
     "name": "stdout",
     "output_type": "stream",
     "text": [
      "\r",
      "  |                                                                            \r",
      "  |========================================                              |  57%"
     ]
    },
    {
     "name": "stderr",
     "output_type": "stream",
     "text": [
      "Warning message in geoNEON::def.extr.geo.os(data, locCol = locCol, locOnly = F):\n",
      "“WARNING: the following namedLocation was not found: SCBI_002.basePlot.vst.NA”Warning message in geoNEON::def.extr.geo.os(data, locCol = locCol, locOnly = F):\n",
      "“WARNING: the following namedLocation was not found: SCBI_063.basePlot.vst.NA”Warning message in geoNEON::def.extr.geo.os(data, locCol = locCol, locOnly = F):\n",
      "“WARNING: the following namedLocation was not found: SCBI_010.basePlot.vst.NA”"
     ]
    },
    {
     "name": "stdout",
     "output_type": "stream",
     "text": [
      "\r",
      "  |                                                                            \r",
      "  |========================================                              |  58%"
     ]
    },
    {
     "name": "stderr",
     "output_type": "stream",
     "text": [
      "Warning message in geoNEON::def.extr.geo.os(data, locCol = locCol, locOnly = F):\n",
      "“WARNING: the following namedLocation was not found: SCBI_014.basePlot.vst.NA”"
     ]
    },
    {
     "name": "stdout",
     "output_type": "stream",
     "text": [
      "\r",
      "  |                                                                            \r",
      "  |=========================================                             |  58%"
     ]
    },
    {
     "name": "stderr",
     "output_type": "stream",
     "text": [
      "Warning message in geoNEON::def.extr.geo.os(data, locCol = locCol, locOnly = F):\n",
      "“WARNING: the following namedLocation was not found: SCBI_005.basePlot.vst.NA”Warning message in geoNEON::def.extr.geo.os(data, locCol = locCol, locOnly = F):\n",
      "“WARNING: the following namedLocation was not found: SCBI_062.basePlot.vst.NA”"
     ]
    },
    {
     "name": "stdout",
     "output_type": "stream",
     "text": [
      "  |==========================================                            |  59%"
     ]
    },
    {
     "name": "stderr",
     "output_type": "stream",
     "text": [
      "Warning message in geoNEON::def.extr.geo.os(data, locCol = locCol, locOnly = F):\n",
      "“WARNING: the following namedLocation was not found: SCBI_047.basePlot.vst.NA”"
     ]
    },
    {
     "name": "stdout",
     "output_type": "stream",
     "text": [
      "\r",
      "  |                                                                            \r",
      "  |==========================================                            |  60%"
     ]
    },
    {
     "name": "stderr",
     "output_type": "stream",
     "text": [
      "Warning message in geoNEON::def.extr.geo.os(data, locCol = locCol, locOnly = F):\n",
      "“WARNING: the following namedLocation was not found: SCBI_067.basePlot.vst.NA”Warning message in geoNEON::def.extr.geo.os(data, locCol = locCol, locOnly = F):\n",
      "“WARNING: the following namedLocation was not found: SCBI_048.basePlot.vst.NA”"
     ]
    },
    {
     "name": "stdout",
     "output_type": "stream",
     "text": [
      "  |===========================================                           |  61%"
     ]
    },
    {
     "name": "stderr",
     "output_type": "stream",
     "text": [
      "Warning message in geoNEON::def.extr.geo.os(data, locCol = locCol, locOnly = F):\n",
      "“WARNING: the following namedLocation was not found: SCBI_049.basePlot.vst.NA”Warning message in geoNEON::def.extr.geo.os(data, locCol = locCol, locOnly = F):\n",
      "“WARNING: the following namedLocation was not found: SCBI_046.basePlot.vst.NA”"
     ]
    },
    {
     "name": "stdout",
     "output_type": "stream",
     "text": [
      "\r",
      "  |                                                                            \r",
      "  |===========================================                           |  62%"
     ]
    },
    {
     "name": "stderr",
     "output_type": "stream",
     "text": [
      "Warning message in geoNEON::def.extr.geo.os(data, locCol = locCol, locOnly = F):\n",
      "“WARNING: the following namedLocation was not found: SCBI_055.basePlot.vst.NA”Warning message in geoNEON::def.extr.geo.os(data, locCol = locCol, locOnly = F):\n",
      "“WARNING: the following namedLocation was not found: SCBI_066.basePlot.vst.NA”"
     ]
    },
    {
     "name": "stdout",
     "output_type": "stream",
     "text": [
      "\r",
      "  |                                                                            \r",
      "  |============================================                          |  62%"
     ]
    },
    {
     "name": "stderr",
     "output_type": "stream",
     "text": [
      "Warning message in geoNEON::def.extr.geo.os(data, locCol = locCol, locOnly = F):\n",
      "“WARNING: the following namedLocation was not found: SCBI_064.basePlot.vst.NA”"
     ]
    },
    {
     "name": "stdout",
     "output_type": "stream",
     "text": [
      "\r",
      "  |                                                                            \r",
      "  |============================================                          |  63%"
     ]
    },
    {
     "name": "stderr",
     "output_type": "stream",
     "text": [
      "Warning message in geoNEON::def.extr.geo.os(data, locCol = locCol, locOnly = F):\n",
      "“WARNING: the following namedLocation was not found: SCBI_045.basePlot.vst.NA”Warning message in geoNEON::def.extr.geo.os(data, locCol = locCol, locOnly = F):\n",
      "“WARNING: the following namedLocation was not found: SCBI_058.basePlot.vst.NA”"
     ]
    },
    {
     "name": "stdout",
     "output_type": "stream",
     "text": [
      "\r",
      "  |                                                                            \r",
      "  |============================================                          |  64%"
     ]
    },
    {
     "name": "stderr",
     "output_type": "stream",
     "text": [
      "Warning message in geoNEON::def.extr.geo.os(data, locCol = locCol, locOnly = F):\n",
      "“WARNING: the following namedLocation was not found: SCBI_056.basePlot.vst.NA”"
     ]
    },
    {
     "name": "stdout",
     "output_type": "stream",
     "text": [
      "\r",
      "  |                                                                            \r",
      "  |=============================================                         |  64%"
     ]
    },
    {
     "name": "stderr",
     "output_type": "stream",
     "text": [
      "Warning message in geoNEON::def.extr.geo.os(data, locCol = locCol, locOnly = F):\n",
      "“WARNING: the following namedLocation was not found: SCBI_057.basePlot.vst.NA”Warning message in geoNEON::def.extr.geo.os(data, locCol = locCol, locOnly = F):\n",
      "“WARNING: the following namedLocation was not found: SCBI_051.basePlot.vst.NA”"
     ]
    },
    {
     "name": "stdout",
     "output_type": "stream",
     "text": [
      "  |==============================================                        |  65%"
     ]
    },
    {
     "name": "stderr",
     "output_type": "stream",
     "text": [
      "Warning message in geoNEON::def.extr.geo.os(data, locCol = locCol, locOnly = F):\n",
      "“WARNING: the following namedLocation was not found: SCBI_050.basePlot.vst.NA”"
     ]
    },
    {
     "name": "stdout",
     "output_type": "stream",
     "text": [
      "\r",
      "  |                                                                            \r",
      "  |==============================================                        |  66%"
     ]
    },
    {
     "name": "stderr",
     "output_type": "stream",
     "text": [
      "Warning message in geoNEON::def.extr.geo.os(data, locCol = locCol, locOnly = F):\n",
      "“WARNING: the following namedLocation was not found: SCBI_053.basePlot.vst.NA”Warning message in geoNEON::def.extr.geo.os(data, locCol = locCol, locOnly = F):\n",
      "“WARNING: the following namedLocation was not found: SCBI_061.basePlot.vst.NA”Warning message in geoNEON::def.extr.geo.os(data, locCol = locCol, locOnly = F):\n",
      "“WARNING: the following namedLocation was not found: SCBI_054.basePlot.vst.NA”Warning message in geoNEON::def.extr.geo.os(data, locCol = locCol, locOnly = F):\n",
      "“WARNING: the following namedLocation was not found: SCBI_052.basePlot.vst.NA”"
     ]
    },
    {
     "name": "stdout",
     "output_type": "stream",
     "text": [
      "  |================================================                      |  69%"
     ]
    },
    {
     "name": "stderr",
     "output_type": "stream",
     "text": [
      "Warning message in geoNEON::def.extr.geo.os(data, locCol = locCol, locOnly = F):\n",
      "“WARNING: the following namedLocation was not found: STEI_058.basePlot.vst.NA”"
     ]
    },
    {
     "name": "stdout",
     "output_type": "stream",
     "text": [
      "  |=================================================                     |  70%"
     ]
    },
    {
     "name": "stderr",
     "output_type": "stream",
     "text": [
      "Warning message in geoNEON::def.extr.geo.os(data, locCol = locCol, locOnly = F):\n",
      "“WARNING: the following namedLocation was not found: STEI_051.basePlot.vst.NA”Warning message in geoNEON::def.extr.geo.os(data, locCol = locCol, locOnly = F):\n",
      "“WARNING: the following namedLocation was not found: STEI_056.basePlot.vst.NA”Warning message in geoNEON::def.extr.geo.os(data, locCol = locCol, locOnly = F):\n",
      "“WARNING: the following namedLocation was not found: STEI_061.basePlot.vst.NA”Warning message in geoNEON::def.extr.geo.os(data, locCol = locCol, locOnly = F):\n",
      "“WARNING: the following namedLocation was not found: STEI_046.basePlot.vst.NA”"
     ]
    },
    {
     "name": "stdout",
     "output_type": "stream",
     "text": [
      "  |==================================================                    |  71%"
     ]
    },
    {
     "name": "stderr",
     "output_type": "stream",
     "text": [
      "Warning message in geoNEON::def.extr.geo.os(data, locCol = locCol, locOnly = F):\n",
      "“WARNING: the following namedLocation was not found: STEI_062.basePlot.vst.NA”"
     ]
    },
    {
     "name": "stdout",
     "output_type": "stream",
     "text": [
      "\r",
      "  |                                                                            \r",
      "  |==================================================                    |  72%"
     ]
    },
    {
     "name": "stderr",
     "output_type": "stream",
     "text": [
      "Warning message in geoNEON::def.extr.geo.os(data, locCol = locCol, locOnly = F):\n",
      "“WARNING: the following namedLocation was not found: STEI_052.basePlot.vst.NA”Warning message in geoNEON::def.extr.geo.os(data, locCol = locCol, locOnly = F):\n",
      "“WARNING: the following namedLocation was not found: STEI_055.basePlot.vst.NA”"
     ]
    },
    {
     "name": "stdout",
     "output_type": "stream",
     "text": [
      "\r",
      "  |                                                                            \r",
      "  |===================================================                   |  72%"
     ]
    },
    {
     "name": "stderr",
     "output_type": "stream",
     "text": [
      "Warning message in geoNEON::def.extr.geo.os(data, locCol = locCol, locOnly = F):\n",
      "“WARNING: the following namedLocation was not found: STEI_053.basePlot.vst.NA”Warning message in geoNEON::def.extr.geo.os(data, locCol = locCol, locOnly = F):\n",
      "“WARNING: the following namedLocation was not found: STEI_047.basePlot.vst.NA”Warning message in geoNEON::def.extr.geo.os(data, locCol = locCol, locOnly = F):\n",
      "“WARNING: the following namedLocation was not found: STEI_054.basePlot.vst.NA”Warning message in geoNEON::def.extr.geo.os(data, locCol = locCol, locOnly = F):\n",
      "“WARNING: the following namedLocation was not found: STEI_057.basePlot.vst.NA”"
     ]
    },
    {
     "name": "stdout",
     "output_type": "stream",
     "text": [
      "\r",
      "  |                                                                            \r",
      "  |===================================================                   |  73%"
     ]
    },
    {
     "name": "stderr",
     "output_type": "stream",
     "text": [
      "Warning message in geoNEON::def.extr.geo.os(data, locCol = locCol, locOnly = F):\n",
      "“WARNING: the following namedLocation was not found: STEI_060.basePlot.vst.NA”Warning message in geoNEON::def.extr.geo.os(data, locCol = locCol, locOnly = F):\n",
      "“WARNING: the following namedLocation was not found: STEI_048.basePlot.vst.NA”Warning message in geoNEON::def.extr.geo.os(data, locCol = locCol, locOnly = F):\n",
      "“WARNING: the following namedLocation was not found: STEI_050.basePlot.vst.NA”Warning message in geoNEON::def.extr.geo.os(data, locCol = locCol, locOnly = F):\n",
      "“WARNING: the following namedLocation was not found: STEI_049.basePlot.vst.NA”"
     ]
    },
    {
     "name": "stdout",
     "output_type": "stream",
     "text": [
      "  |====================================================                  |  74%"
     ]
    },
    {
     "name": "stderr",
     "output_type": "stream",
     "text": [
      "Warning message in geoNEON::def.extr.geo.os(data, locCol = locCol, locOnly = F):\n",
      "“WARNING: the following namedLocation was not found: STEI_059.basePlot.vst.NA”Warning message in geoNEON::def.extr.geo.os(data, locCol = locCol, locOnly = F):\n",
      "“WARNING: the following namedLocation was not found: STEI_010.basePlot.vst.NA”"
     ]
    },
    {
     "name": "stdout",
     "output_type": "stream",
     "text": [
      "\r",
      "  |                                                                            \r",
      "  |====================================================                  |  75%"
     ]
    },
    {
     "name": "stderr",
     "output_type": "stream",
     "text": [
      "Warning message in geoNEON::def.extr.geo.os(data, locCol = locCol, locOnly = F):\n",
      "“WARNING: the following namedLocation was not found: STEI_002.basePlot.vst.NA”Warning message in geoNEON::def.extr.geo.os(data, locCol = locCol, locOnly = F):\n",
      "“WARNING: the following namedLocation was not found: STEI_009.basePlot.vst.NA”"
     ]
    },
    {
     "name": "stdout",
     "output_type": "stream",
     "text": [
      "\r",
      "  |                                                                            \r",
      "  |=====================================================                 |  75%"
     ]
    },
    {
     "name": "stderr",
     "output_type": "stream",
     "text": [
      "Warning message in geoNEON::def.extr.geo.os(data, locCol = locCol, locOnly = F):\n",
      "“WARNING: the following namedLocation was not found: STEI_007.basePlot.vst.NA”Warning message in geoNEON::def.extr.geo.os(data, locCol = locCol, locOnly = F):\n",
      "“WARNING: the following namedLocation was not found: STEI_012.basePlot.vst.NA”"
     ]
    },
    {
     "name": "stdout",
     "output_type": "stream",
     "text": [
      "\r",
      "  |                                                                            \r",
      "  |=====================================================                 |  76%"
     ]
    },
    {
     "name": "stderr",
     "output_type": "stream",
     "text": [
      "Warning message in geoNEON::def.extr.geo.os(data, locCol = locCol, locOnly = F):\n",
      "“WARNING: the following namedLocation was not found: STEI_001.basePlot.vst.NA”Warning message in geoNEON::def.extr.geo.os(data, locCol = locCol, locOnly = F):\n",
      "“WARNING: the following namedLocation was not found: STEI_015.basePlot.vst.NA”Warning message in geoNEON::def.extr.geo.os(data, locCol = locCol, locOnly = F):\n",
      "“WARNING: the following namedLocation was not found: STEI_004.basePlot.vst.NA”"
     ]
    },
    {
     "name": "stdout",
     "output_type": "stream",
     "text": [
      "  |======================================================                |  77%"
     ]
    },
    {
     "name": "stderr",
     "output_type": "stream",
     "text": [
      "Warning message in geoNEON::def.extr.geo.os(data, locCol = locCol, locOnly = F):\n",
      "“WARNING: the following namedLocation was not found: STEI_016.basePlot.vst.NA”"
     ]
    },
    {
     "name": "stdout",
     "output_type": "stream",
     "text": [
      "\r",
      "  |                                                                            \r",
      "  |======================================================                |  78%"
     ]
    },
    {
     "name": "stderr",
     "output_type": "stream",
     "text": [
      "Warning message in geoNEON::def.extr.geo.os(data, locCol = locCol, locOnly = F):\n",
      "“WARNING: the following namedLocation was not found: STEI_011.basePlot.vst.NA”"
     ]
    },
    {
     "name": "stdout",
     "output_type": "stream",
     "text": [
      "\r",
      "  |                                                                            \r",
      "  |=======================================================               |  78%"
     ]
    },
    {
     "name": "stderr",
     "output_type": "stream",
     "text": [
      "Warning message in geoNEON::def.extr.geo.os(data, locCol = locCol, locOnly = F):\n",
      "“WARNING: the following namedLocation was not found: STEI_011.basePlot.vst.32”Warning message in geoNEON::def.extr.geo.os(data, locCol = locCol, locOnly = F):\n",
      "“WARNING: the following namedLocation was not found: STEI_011.basePlot.vst.40”Warning message in geoNEON::def.extr.geo.os(data, locCol = locCol, locOnly = F):\n",
      "“WARNING: the following namedLocation was not found: STEI_022.basePlot.vst.NA”"
     ]
    },
    {
     "name": "stdout",
     "output_type": "stream",
     "text": [
      "\r",
      "  |                                                                            \r",
      "  |=======================================================               |  79%"
     ]
    },
    {
     "name": "stderr",
     "output_type": "stream",
     "text": [
      "Warning message in geoNEON::def.extr.geo.os(data, locCol = locCol, locOnly = F):\n",
      "“WARNING: the following namedLocation was not found: STEI_013.basePlot.vst.NA”Warning message in geoNEON::def.extr.geo.os(data, locCol = locCol, locOnly = F):\n",
      "“WARNING: the following namedLocation was not found: STEI_005.basePlot.vst.NA”"
     ]
    },
    {
     "name": "stdout",
     "output_type": "stream",
     "text": [
      "\r",
      "  |                                                                            \r",
      "  |========================================================              |  79%"
     ]
    },
    {
     "name": "stderr",
     "output_type": "stream",
     "text": [
      "Warning message in geoNEON::def.extr.geo.os(data, locCol = locCol, locOnly = F):\n",
      "“WARNING: the following namedLocation was not found: STEI_008.basePlot.vst.NA”Warning message in geoNEON::def.extr.geo.os(data, locCol = locCol, locOnly = F):\n",
      "“WARNING: the following namedLocation was not found: STEI_008.basePlot.vst.32”"
     ]
    },
    {
     "name": "stdout",
     "output_type": "stream",
     "text": [
      "\r",
      "  |                                                                            \r",
      "  |========================================================              |  80%"
     ]
    },
    {
     "name": "stderr",
     "output_type": "stream",
     "text": [
      "Warning message in geoNEON::def.extr.geo.os(data, locCol = locCol, locOnly = F):\n",
      "“WARNING: the following namedLocation was not found: STEI_008.basePlot.vst.40”Warning message in geoNEON::def.extr.geo.os(data, locCol = locCol, locOnly = F):\n",
      "“WARNING: the following namedLocation was not found: STEI_021.basePlot.vst.NA”Warning message in geoNEON::def.extr.geo.os(data, locCol = locCol, locOnly = F):\n",
      "“WARNING: the following namedLocation was not found: STEI_014.basePlot.vst.NA”"
     ]
    },
    {
     "name": "stdout",
     "output_type": "stream",
     "text": [
      "  |=========================================================             |  81%"
     ]
    },
    {
     "name": "stderr",
     "output_type": "stream",
     "text": [
      "Warning message in geoNEON::def.extr.geo.os(data, locCol = locCol, locOnly = F):\n",
      "“WARNING: the following namedLocation was not found: STEI_006.basePlot.vst.NA”Warning message in geoNEON::def.extr.geo.os(data, locCol = locCol, locOnly = F):\n",
      "“WARNING: the following namedLocation was not found: STEI_003.basePlot.vst.NA”Warning message in geoNEON::def.extr.geo.os(data, locCol = locCol, locOnly = F):\n",
      "“WARNING: the following namedLocation was not found: STEI_017.basePlot.vst.NA”"
     ]
    },
    {
     "name": "stdout",
     "output_type": "stream",
     "text": [
      "  |==========================================================            |  82%"
     ]
    },
    {
     "name": "stderr",
     "output_type": "stream",
     "text": [
      "Warning message in geoNEON::def.extr.geo.os(data, locCol = locCol, locOnly = F):\n",
      "“WARNING: the following namedLocation was not found: STEI_019.basePlot.vst.NA”Warning message in geoNEON::def.extr.geo.os(data, locCol = locCol, locOnly = F):\n",
      "“WARNING: the following namedLocation was not found: STEI_019.basePlot.vst.1”"
     ]
    },
    {
     "name": "stdout",
     "output_type": "stream",
     "text": [
      "  |===========================================================           |  84%"
     ]
    },
    {
     "name": "stderr",
     "output_type": "stream",
     "text": [
      "Warning message in geoNEON::def.extr.geo.os(data, locCol = locCol, locOnly = F):\n",
      "“WARNING: the following namedLocation was not found: TALL_003.basePlot.vst.NA”Warning message in geoNEON::def.extr.geo.os(data, locCol = locCol, locOnly = F):\n",
      "“WARNING: the following namedLocation was not found: TALL_009.basePlot.vst.NA”Warning message in geoNEON::def.extr.geo.os(data, locCol = locCol, locOnly = F):\n",
      "“WARNING: the following namedLocation was not found: TALL_012.basePlot.vst.NA”Warning message in geoNEON::def.extr.geo.os(data, locCol = locCol, locOnly = F):\n",
      "“WARNING: the following namedLocation was not found: TALL_005.basePlot.vst.NA”Warning message in geoNEON::def.extr.geo.os(data, locCol = locCol, locOnly = F):\n",
      "“WARNING: the following namedLocation was not found: TALL_004.basePlot.vst.NA”"
     ]
    },
    {
     "name": "stdout",
     "output_type": "stream",
     "text": [
      "\r",
      "  |                                                                            \r",
      "  |===========================================================           |  85%"
     ]
    },
    {
     "name": "stderr",
     "output_type": "stream",
     "text": [
      "Warning message in geoNEON::def.extr.geo.os(data, locCol = locCol, locOnly = F):\n",
      "“WARNING: the following namedLocation was not found: TALL_010.basePlot.vst.NA”Warning message in geoNEON::def.extr.geo.os(data, locCol = locCol, locOnly = F):\n",
      "“WARNING: the following namedLocation was not found: TALL_007.basePlot.vst.NA”"
     ]
    },
    {
     "name": "stdout",
     "output_type": "stream",
     "text": [
      "\r",
      "  |                                                                            \r",
      "  |============================================================          |  85%"
     ]
    },
    {
     "name": "stderr",
     "output_type": "stream",
     "text": [
      "Warning message in geoNEON::def.extr.geo.os(data, locCol = locCol, locOnly = F):\n",
      "“WARNING: the following namedLocation was not found: TALL_002.basePlot.vst.NA”Warning message in geoNEON::def.extr.geo.os(data, locCol = locCol, locOnly = F):\n",
      "“WARNING: the following namedLocation was not found: TALL_015.basePlot.vst.NA”"
     ]
    },
    {
     "name": "stdout",
     "output_type": "stream",
     "text": [
      "\r",
      "  |                                                                            \r",
      "  |============================================================          |  86%"
     ]
    },
    {
     "name": "stderr",
     "output_type": "stream",
     "text": [
      "Warning message in geoNEON::def.extr.geo.os(data, locCol = locCol, locOnly = F):\n",
      "“WARNING: the following namedLocation was not found: TALL_022.basePlot.vst.NA”Warning message in geoNEON::def.extr.geo.os(data, locCol = locCol, locOnly = F):\n",
      "“WARNING: the following namedLocation was not found: TALL_016.basePlot.vst.NA”Warning message in geoNEON::def.extr.geo.os(data, locCol = locCol, locOnly = F):\n",
      "“WARNING: the following namedLocation was not found: TALL_011.basePlot.vst.NA”Warning message in geoNEON::def.extr.geo.os(data, locCol = locCol, locOnly = F):\n",
      "“WARNING: the following namedLocation was not found: TALL_018.basePlot.vst.NA”"
     ]
    },
    {
     "name": "stdout",
     "output_type": "stream",
     "text": [
      "\r",
      "  |                                                                            \r",
      "  |=============================================================         |  86%"
     ]
    },
    {
     "name": "stderr",
     "output_type": "stream",
     "text": [
      "Warning message in geoNEON::def.extr.geo.os(data, locCol = locCol, locOnly = F):\n",
      "“WARNING: the following namedLocation was not found: TALL_006.basePlot.vst.NA”"
     ]
    },
    {
     "name": "stdout",
     "output_type": "stream",
     "text": [
      "\r",
      "  |                                                                            \r",
      "  |=============================================================         |  87%"
     ]
    },
    {
     "name": "stderr",
     "output_type": "stream",
     "text": [
      "Warning message in geoNEON::def.extr.geo.os(data, locCol = locCol, locOnly = F):\n",
      "“WARNING: the following namedLocation was not found: TALL_013.basePlot.vst.NA”Warning message in geoNEON::def.extr.geo.os(data, locCol = locCol, locOnly = F):\n",
      "“WARNING: the following namedLocation was not found: TALL_001.basePlot.vst.NA”Warning message in geoNEON::def.extr.geo.os(data, locCol = locCol, locOnly = F):\n",
      "“WARNING: the following namedLocation was not found: TALL_017.basePlot.vst.NA”Warning message in geoNEON::def.extr.geo.os(data, locCol = locCol, locOnly = F):\n",
      "“WARNING: the following namedLocation was not found: TALL_020.basePlot.vst.NA”"
     ]
    },
    {
     "name": "stdout",
     "output_type": "stream",
     "text": [
      "\r",
      "  |                                                                            \r",
      "  |=============================================================         |  88%"
     ]
    },
    {
     "name": "stderr",
     "output_type": "stream",
     "text": [
      "Warning message in geoNEON::def.extr.geo.os(data, locCol = locCol, locOnly = F):\n",
      "“WARNING: the following namedLocation was not found: TALL_008.basePlot.vst.NA”"
     ]
    },
    {
     "name": "stdout",
     "output_type": "stream",
     "text": [
      "\r",
      "  |                                                                            \r",
      "  |==============================================================        |  88%"
     ]
    },
    {
     "name": "stderr",
     "output_type": "stream",
     "text": [
      "Warning message in geoNEON::def.extr.geo.os(data, locCol = locCol, locOnly = F):\n",
      "“WARNING: the following namedLocation was not found: TALL_050.basePlot.vst.NA”Warning message in geoNEON::def.extr.geo.os(data, locCol = locCol, locOnly = F):\n",
      "“WARNING: the following namedLocation was not found: TALL_051.basePlot.vst.NA”Warning message in geoNEON::def.extr.geo.os(data, locCol = locCol, locOnly = F):\n",
      "“WARNING: the following namedLocation was not found: TALL_054.basePlot.vst.NA”"
     ]
    },
    {
     "name": "stdout",
     "output_type": "stream",
     "text": [
      "\r",
      "  |                                                                            \r",
      "  |==============================================================        |  89%"
     ]
    },
    {
     "name": "stderr",
     "output_type": "stream",
     "text": [
      "Warning message in geoNEON::def.extr.geo.os(data, locCol = locCol, locOnly = F):\n",
      "“WARNING: the following namedLocation was not found: TALL_055.basePlot.vst.NA”Warning message in geoNEON::def.extr.geo.os(data, locCol = locCol, locOnly = F):\n",
      "“WARNING: the following namedLocation was not found: TALL_061.basePlot.vst.NA”"
     ]
    },
    {
     "name": "stdout",
     "output_type": "stream",
     "text": [
      "  |===============================================================       |  90%"
     ]
    },
    {
     "name": "stderr",
     "output_type": "stream",
     "text": [
      "Warning message in geoNEON::def.extr.geo.os(data, locCol = locCol, locOnly = F):\n",
      "“WARNING: the following namedLocation was not found: TALL_058.basePlot.vst.NA”Warning message in geoNEON::def.extr.geo.os(data, locCol = locCol, locOnly = F):\n",
      "“WARNING: the following namedLocation was not found: TALL_056.basePlot.vst.NA”Warning message in geoNEON::def.extr.geo.os(data, locCol = locCol, locOnly = F):\n",
      "“WARNING: the following namedLocation was not found: TALL_057.basePlot.vst.NA”"
     ]
    },
    {
     "name": "stdout",
     "output_type": "stream",
     "text": [
      "  |================================================================      |  91%"
     ]
    },
    {
     "name": "stderr",
     "output_type": "stream",
     "text": [
      "Warning message in geoNEON::def.extr.geo.os(data, locCol = locCol, locOnly = F):\n",
      "“WARNING: the following namedLocation was not found: TALL_049.basePlot.vst.NA”Warning message in geoNEON::def.extr.geo.os(data, locCol = locCol, locOnly = F):\n",
      "“WARNING: the following namedLocation was not found: TALL_052.basePlot.vst.NA”Warning message in geoNEON::def.extr.geo.os(data, locCol = locCol, locOnly = F):\n",
      "“WARNING: the following namedLocation was not found: TALL_053.basePlot.vst.NA”Warning message in geoNEON::def.extr.geo.os(data, locCol = locCol, locOnly = F):\n",
      "“WARNING: the following namedLocation was not found: TALL_059.basePlot.vst.NA”"
     ]
    },
    {
     "name": "stdout",
     "output_type": "stream",
     "text": [
      "  |=================================================================     |  93%"
     ]
    },
    {
     "name": "stderr",
     "output_type": "stream",
     "text": [
      "Warning message in geoNEON::def.extr.geo.os(data, locCol = locCol, locOnly = F):\n",
      "“WARNING: the following namedLocation was not found: TALL_046.basePlot.vst.NA”Warning message in geoNEON::def.extr.geo.os(data, locCol = locCol, locOnly = F):\n",
      "“WARNING: the following namedLocation was not found: TALL_047.basePlot.vst.NA”Warning message in geoNEON::def.extr.geo.os(data, locCol = locCol, locOnly = F):\n",
      "“WARNING: the following namedLocation was not found: TALL_048.basePlot.vst.NA”"
     ]
    },
    {
     "name": "stdout",
     "output_type": "stream",
     "text": [
      "  |==================================================================    |  94%"
     ]
    },
    {
     "name": "stderr",
     "output_type": "stream",
     "text": [
      "Warning message in geoNEON::def.extr.geo.os(data, locCol = locCol, locOnly = F):\n",
      "“WARNING: the following namedLocation was not found: TALL_060.basePlot.vst.NA”Warning message in geoNEON::def.extr.geo.os(data, locCol = locCol, locOnly = F):\n",
      "“WARNING: the following namedLocation was not found: TALL_045.basePlot.vst.NA”"
     ]
    },
    {
     "name": "stdout",
     "output_type": "stream",
     "text": [
      "  |===================================================================   |  95%"
     ]
    },
    {
     "name": "stderr",
     "output_type": "stream",
     "text": [
      "Warning message in geoNEON::def.extr.geo.os(data, locCol = locCol, locOnly = F):\n",
      "“WARNING: the following namedLocation was not found: TALL_044.basePlot.vst.NA”Warning message in geoNEON::def.extr.geo.os(data, locCol = locCol, locOnly = F):\n",
      "“WARNING: the following namedLocation was not found: TALL_043.basePlot.vst.NA”Warning message in geoNEON::def.extr.geo.os(data, locCol = locCol, locOnly = F):\n",
      "“WARNING: the following namedLocation was not found: TALL_042.basePlot.vst.NA”"
     ]
    },
    {
     "name": "stdout",
     "output_type": "stream",
     "text": [
      "  |====================================================================  |  97%"
     ]
    },
    {
     "name": "stderr",
     "output_type": "stream",
     "text": [
      "Warning message in geoNEON::def.extr.geo.os(data, locCol = locCol, locOnly = F):\n",
      "“WARNING: the following namedLocation was not found: TALL_064.basePlot.vst.NA”"
     ]
    },
    {
     "name": "stdout",
     "output_type": "stream",
     "text": [
      "  |======================================================================| 100%"
     ]
    },
    {
     "name": "stderr",
     "output_type": "stream",
     "text": [
      "Warning message in geoNEON::def.extr.geo.os(data, locCol = locCol, locOnly = F):\n",
      "“WARNING: the following namedLocation was not found: WOOD_008.basePlot.vst.NA”"
     ]
    },
    {
     "name": "stdout",
     "output_type": "stream",
     "text": [
      "\n"
     ]
    },
    {
     "name": "stderr",
     "output_type": "stream",
     "text": [
      "Warning message in def.calc.latlong(point.loc):\n",
      "“one or more rows had missing inputs for easting, northing, or UTM zone and were not converted”"
     ]
    }
   ],
   "source": [
    "vegmap <- def.calc.geo.os(vegmap, \"vst_mappingandtagging\")"
   ]
  },
  {
   "cell_type": "markdown",
   "metadata": {},
   "source": [
    "Merge cfc and vst data"
   ]
  },
  {
   "cell_type": "code",
   "execution_count": 6,
   "metadata": {},
   "outputs": [],
   "source": [
    "cfc <- cfc[,which(names(cfc) %in% c(\"sampleID\", \"namedLocation\", \"domainID\", \"siteID\", \"plotID\", \"subplotID\", \n",
    "                                    \"collectDate\", \"tagID\", \"individualID\", \"taxonID\", \"clipCellNumber\", \"clipID\", \n",
    "                                    \"clipLength\", \"clipWidth\", \"percentCoverClip\", \"nitrogenPercent\", \n",
    "                                    \"carbonPercent\", \"dryMass\", \"ligninPercent\", \"cellulosePercent\"))]\n",
    "cfc <- merge(cfc, vegmap, by=c(\"individualID\", \"domainID\", \"siteID\", \"plotID\"))"
   ]
  },
  {
   "cell_type": "markdown",
   "metadata": {},
   "source": [
    "NEED TO FIGURE OUT THE HERBACEOUS LOCATIONS"
   ]
  },
  {
   "cell_type": "markdown",
   "metadata": {},
   "source": [
    "## 3. Download AOP data (only need to do this once)\n",
    "Download AOP tiles matching UTMs from plant data"
   ]
  },
  {
   "cell_type": "markdown",
   "metadata": {},
   "source": [
    "First figure out the AOP tiles needed to match all the sampled plants"
   ]
  },
  {
   "cell_type": "code",
   "execution_count": 53,
   "metadata": {},
   "outputs": [],
   "source": [
    "cfc$tileEasting <- floor(cfc$adjEasting/1000)*1000\n",
    "cfc$tileNorthing <- floor(cfc$adjNorthing/1000)*1000\n",
    "utms <- data.frame(cbind(cfc$tileEasting, cfc$tileNorthing))\n",
    "colnames(utms) <- c(\"easting\", \"northing\")\n",
    "tiles <- unique(utms)\n",
    "tiles <- tiles[which(!is.na(tiles$easting) & !is.na(tiles$northing)),]"
   ]
  },
  {
   "cell_type": "markdown",
   "metadata": {},
   "source": [
    "NDNI:"
   ]
  },
  {
   "cell_type": "code",
   "execution_count": 49,
   "metadata": {},
   "outputs": [],
   "source": [
    "n.req <- httr::GET(\"http://data.neonscience.org/api/v0/products/DP3.30018.001\")\n",
    "avail <- jsonlite::fromJSON(httr::content(n.req, as=\"text\"))\n",
    "urls <- unlist(avail$data$siteCodes$availableDataUrls)"
   ]
  },
  {
   "cell_type": "code",
   "execution_count": 54,
   "metadata": {},
   "outputs": [
    {
     "name": "stdout",
     "output_type": "stream",
     "text": [
      "[1] \"SCBI\"\n",
      "[1] 1\n",
      "  easting northing\n",
      "1  747000  4309000\n",
      "  easting northing\n",
      "4  746000  4309000\n",
      "  easting northing\n",
      "6  747000  4308000\n",
      "  easting northing\n",
      "8  746000  4306000\n",
      "   easting northing\n",
      "10  749000  4307000\n",
      "   easting northing\n",
      "11  748000  4307000\n",
      "   easting northing\n",
      "16  748000  4308000\n",
      "   easting northing\n",
      "46  297000  5042000\n",
      "   easting northing\n",
      "48  259000  5077000\n",
      "   easting northing\n",
      "59  259000  5076000\n",
      "   easting northing\n",
      "64  260000  5078000\n",
      "   easting northing\n",
      "67  261000  5079000\n",
      "   easting northing\n",
      "78  262000  5075000\n",
      "   easting northing\n",
      "83  262000  5076000\n",
      "   easting northing\n",
      "85  261000  5076000\n",
      "   easting northing\n",
      "92  707000  4331000\n",
      "    easting northing\n",
      "102  273000  3952000\n",
      "    easting northing\n",
      "108  273000  3951000\n",
      "    easting northing\n",
      "129  260000  3951000\n",
      "    easting northing\n",
      "141  270000  3951000\n",
      "    easting northing\n",
      "153  274000  3950000\n",
      "    easting northing\n",
      "157  276000  3950000\n",
      "    easting northing\n",
      "169  271000  3950000\n",
      "    easting northing\n",
      "185  275000  3941000\n",
      "    easting northing\n",
      "203  265000  3950000\n",
      "    easting northing\n",
      "219  272000  3952000\n",
      "    easting northing\n",
      "231  275000  3951000\n",
      "    easting northing\n",
      "237  744000  3983000\n",
      "    easting northing\n",
      "238  749000  3983000\n",
      "    easting northing\n",
      "240  751000  3985000\n",
      "    easting northing\n",
      "244  745000  3977000\n",
      "    easting northing\n",
      "248  740000  3979000\n",
      "    easting northing\n",
      "251  749000  3984000\n",
      "    easting northing\n",
      "257  746000  3979000\n",
      "    easting northing\n",
      "260  741000  3980000\n",
      "    easting northing\n",
      "263  740000  3978000\n",
      "    easting northing\n",
      "266  746000  3978000\n",
      "    easting northing\n",
      "269  745000  3983000\n",
      "    easting northing\n",
      "283  461000  3640000\n",
      "    easting northing\n",
      "284  462000  3645000\n",
      "    easting northing\n",
      "288  459000  3646000\n",
      "    easting northing\n",
      "290  462000  3639000\n",
      "    easting northing\n",
      "292  460000  3648000\n",
      "    easting northing\n",
      "297  459000  3642000\n",
      "    easting northing\n",
      "300  458000  3640000\n",
      "    easting northing\n",
      "302  459000  3648000\n",
      "    easting northing\n",
      "305  457000  3638000\n",
      "    easting northing\n",
      "319  462000  3646000\n",
      "    easting northing\n",
      "332  645000  4236000\n",
      "    easting northing\n",
      "335  644000  4236000\n",
      "    easting northing\n",
      "341  330000  3608000\n",
      "    easting northing\n",
      "342  331000  3607000\n",
      "    easting northing\n",
      "345  330000  3605000\n",
      "    easting northing\n",
      "347  325000  3611000\n",
      "    easting northing\n",
      "353  328000  3609000\n",
      "    easting northing\n",
      "357  327000  3609000\n",
      "    easting northing\n",
      "360  326000  3611000\n",
      "    easting northing\n",
      "363  327000  3608000\n",
      "    easting northing\n",
      "368  328000  3607000\n",
      "    easting northing\n",
      "372  325000  3609000\n",
      "[1] \"STEI\"\n",
      "[1] 1\n",
      "  easting northing\n",
      "1  747000  4309000\n",
      "  easting northing\n",
      "4  746000  4309000\n",
      "  easting northing\n",
      "6  747000  4308000\n",
      "  easting northing\n",
      "8  746000  4306000\n",
      "   easting northing\n",
      "10  749000  4307000\n",
      "   easting northing\n",
      "11  748000  4307000\n",
      "   easting northing\n",
      "16  748000  4308000\n",
      "   easting northing\n",
      "46  297000  5042000\n",
      "   easting northing\n",
      "48  259000  5077000\n",
      "   easting northing\n",
      "59  259000  5076000\n",
      "   easting northing\n",
      "64  260000  5078000\n",
      "   easting northing\n",
      "67  261000  5079000\n",
      "   easting northing\n",
      "78  262000  5075000\n",
      "   easting northing\n",
      "83  262000  5076000\n",
      "   easting northing\n",
      "85  261000  5076000\n",
      "   easting northing\n",
      "92  707000  4331000\n",
      "    easting northing\n",
      "102  273000  3952000\n",
      "    easting northing\n",
      "108  273000  3951000\n",
      "    easting northing\n",
      "129  260000  3951000\n",
      "    easting northing\n",
      "141  270000  3951000\n",
      "    easting northing\n",
      "153  274000  3950000\n",
      "    easting northing\n",
      "157  276000  3950000\n",
      "    easting northing\n",
      "169  271000  3950000\n",
      "    easting northing\n",
      "185  275000  3941000\n",
      "    easting northing\n",
      "203  265000  3950000\n",
      "    easting northing\n",
      "219  272000  3952000\n",
      "    easting northing\n",
      "231  275000  3951000\n",
      "    easting northing\n",
      "237  744000  3983000\n",
      "    easting northing\n",
      "238  749000  3983000\n",
      "    easting northing\n",
      "240  751000  3985000\n",
      "    easting northing\n",
      "244  745000  3977000\n",
      "    easting northing\n",
      "248  740000  3979000\n",
      "    easting northing\n",
      "251  749000  3984000\n",
      "    easting northing\n",
      "257  746000  3979000\n",
      "    easting northing\n",
      "260  741000  3980000\n",
      "    easting northing\n",
      "263  740000  3978000\n",
      "    easting northing\n",
      "266  746000  3978000\n",
      "    easting northing\n",
      "269  745000  3983000\n",
      "    easting northing\n",
      "283  461000  3640000\n",
      "    easting northing\n",
      "284  462000  3645000\n",
      "    easting northing\n",
      "288  459000  3646000\n",
      "    easting northing\n",
      "290  462000  3639000\n",
      "    easting northing\n",
      "292  460000  3648000\n",
      "    easting northing\n",
      "297  459000  3642000\n",
      "    easting northing\n",
      "300  458000  3640000\n",
      "    easting northing\n",
      "302  459000  3648000\n",
      "    easting northing\n",
      "305  457000  3638000\n",
      "    easting northing\n",
      "319  462000  3646000\n",
      "    easting northing\n",
      "332  645000  4236000\n",
      "    easting northing\n",
      "335  644000  4236000\n",
      "    easting northing\n",
      "341  330000  3608000\n",
      "    easting northing\n",
      "342  331000  3607000\n",
      "    easting northing\n",
      "345  330000  3605000\n",
      "    easting northing\n",
      "347  325000  3611000\n",
      "    easting northing\n",
      "353  328000  3609000\n",
      "    easting northing\n",
      "357  327000  3609000\n",
      "    easting northing\n",
      "360  326000  3611000\n",
      "    easting northing\n",
      "363  327000  3608000\n",
      "    easting northing\n",
      "368  328000  3607000\n",
      "    easting northing\n",
      "372  325000  3609000\n",
      "[1] \"KONZ\"\n",
      "[1] 1\n",
      "  easting northing\n",
      "1  747000  4309000\n",
      "  easting northing\n",
      "4  746000  4309000\n",
      "  easting northing\n",
      "6  747000  4308000\n",
      "  easting northing\n",
      "8  746000  4306000\n",
      "   easting northing\n",
      "10  749000  4307000\n",
      "   easting northing\n",
      "11  748000  4307000\n",
      "   easting northing\n",
      "16  748000  4308000\n",
      "   easting northing\n",
      "46  297000  5042000\n",
      "   easting northing\n",
      "48  259000  5077000\n",
      "   easting northing\n",
      "59  259000  5076000\n",
      "   easting northing\n",
      "64  260000  5078000\n",
      "   easting northing\n",
      "67  261000  5079000\n",
      "   easting northing\n",
      "78  262000  5075000\n",
      "   easting northing\n",
      "83  262000  5076000\n",
      "   easting northing\n",
      "85  261000  5076000\n",
      "   easting northing\n",
      "92  707000  4331000\n",
      "    easting northing\n",
      "102  273000  3952000\n",
      "    easting northing\n",
      "108  273000  3951000\n",
      "    easting northing\n",
      "129  260000  3951000\n",
      "    easting northing\n",
      "141  270000  3951000\n",
      "    easting northing\n",
      "153  274000  3950000\n",
      "    easting northing\n",
      "157  276000  3950000\n",
      "    easting northing\n",
      "169  271000  3950000\n",
      "    easting northing\n",
      "185  275000  3941000\n",
      "    easting northing\n",
      "203  265000  3950000\n",
      "    easting northing\n",
      "219  272000  3952000\n",
      "    easting northing\n",
      "231  275000  3951000\n",
      "    easting northing\n",
      "237  744000  3983000\n",
      "    easting northing\n",
      "238  749000  3983000\n",
      "    easting northing\n",
      "240  751000  3985000\n",
      "    easting northing\n",
      "244  745000  3977000\n",
      "    easting northing\n",
      "248  740000  3979000\n",
      "    easting northing\n",
      "251  749000  3984000\n",
      "    easting northing\n",
      "257  746000  3979000\n",
      "    easting northing\n",
      "260  741000  3980000\n",
      "    easting northing\n",
      "263  740000  3978000\n",
      "    easting northing\n",
      "266  746000  3978000\n",
      "    easting northing\n",
      "269  745000  3983000\n",
      "    easting northing\n",
      "283  461000  3640000\n",
      "    easting northing\n",
      "284  462000  3645000\n",
      "    easting northing\n",
      "288  459000  3646000\n",
      "    easting northing\n",
      "290  462000  3639000\n",
      "    easting northing\n",
      "292  460000  3648000\n",
      "    easting northing\n",
      "297  459000  3642000\n",
      "    easting northing\n",
      "300  458000  3640000\n",
      "    easting northing\n",
      "302  459000  3648000\n",
      "    easting northing\n",
      "305  457000  3638000\n",
      "    easting northing\n",
      "319  462000  3646000\n",
      "    easting northing\n",
      "332  645000  4236000\n",
      "    easting northing\n",
      "335  644000  4236000\n",
      "    easting northing\n",
      "341  330000  3608000\n",
      "    easting northing\n",
      "342  331000  3607000\n",
      "    easting northing\n",
      "345  330000  3605000\n",
      "    easting northing\n",
      "347  325000  3611000\n",
      "    easting northing\n",
      "353  328000  3609000\n",
      "    easting northing\n",
      "357  327000  3609000\n",
      "    easting northing\n",
      "360  326000  3611000\n",
      "    easting northing\n",
      "363  327000  3608000\n",
      "    easting northing\n",
      "368  328000  3607000\n",
      "    easting northing\n",
      "372  325000  3609000\n",
      "[1] \"GRSM\"\n",
      "[1] \"ORNL\"\n",
      "[1] \"TALL\"\n",
      "[1] 1\n",
      "  easting northing\n",
      "1  747000  4309000\n",
      "  easting northing\n",
      "4  746000  4309000\n",
      "  easting northing\n",
      "6  747000  4308000\n",
      "  easting northing\n",
      "8  746000  4306000\n",
      "   easting northing\n",
      "10  749000  4307000\n",
      "   easting northing\n",
      "11  748000  4307000\n",
      "   easting northing\n",
      "16  748000  4308000\n",
      "   easting northing\n",
      "46  297000  5042000\n",
      "   easting northing\n",
      "48  259000  5077000\n",
      "   easting northing\n",
      "59  259000  5076000\n",
      "   easting northing\n",
      "64  260000  5078000\n",
      "   easting northing\n",
      "67  261000  5079000\n",
      "   easting northing\n",
      "78  262000  5075000\n",
      "   easting northing\n",
      "83  262000  5076000\n",
      "   easting northing\n",
      "85  261000  5076000\n",
      "   easting northing\n",
      "92  707000  4331000\n",
      "    easting northing\n",
      "102  273000  3952000\n",
      "    easting northing\n",
      "108  273000  3951000\n",
      "    easting northing\n",
      "129  260000  3951000\n",
      "    easting northing\n",
      "141  270000  3951000\n",
      "    easting northing\n",
      "153  274000  3950000\n",
      "    easting northing\n",
      "157  276000  3950000\n",
      "    easting northing\n",
      "169  271000  3950000\n",
      "    easting northing\n",
      "185  275000  3941000\n",
      "    easting northing\n",
      "203  265000  3950000\n",
      "    easting northing\n",
      "219  272000  3952000\n",
      "    easting northing\n",
      "231  275000  3951000\n",
      "    easting northing\n",
      "237  744000  3983000\n",
      "    easting northing\n",
      "238  749000  3983000\n",
      "    easting northing\n",
      "240  751000  3985000\n",
      "    easting northing\n",
      "244  745000  3977000\n",
      "    easting northing\n",
      "248  740000  3979000\n",
      "    easting northing\n",
      "251  749000  3984000\n",
      "    easting northing\n",
      "257  746000  3979000\n",
      "    easting northing\n",
      "260  741000  3980000\n",
      "    easting northing\n",
      "263  740000  3978000\n",
      "    easting northing\n",
      "266  746000  3978000\n",
      "    easting northing\n",
      "269  745000  3983000\n",
      "    easting northing\n",
      "283  461000  3640000\n"
     ]
    },
    {
     "name": "stdout",
     "output_type": "stream",
     "text": [
      "    easting northing\n",
      "284  462000  3645000\n",
      "    easting northing\n",
      "288  459000  3646000\n",
      "    easting northing\n",
      "290  462000  3639000\n",
      "    easting northing\n",
      "292  460000  3648000\n",
      "    easting northing\n",
      "297  459000  3642000\n",
      "    easting northing\n",
      "300  458000  3640000\n",
      "    easting northing\n",
      "302  459000  3648000\n",
      "    easting northing\n",
      "305  457000  3638000\n",
      "    easting northing\n",
      "319  462000  3646000\n",
      "    easting northing\n",
      "332  645000  4236000\n",
      "    easting northing\n",
      "335  644000  4236000\n",
      "    easting northing\n",
      "341  330000  3608000\n",
      "    easting northing\n",
      "342  331000  3607000\n",
      "    easting northing\n",
      "345  330000  3605000\n",
      "    easting northing\n",
      "347  325000  3611000\n",
      "    easting northing\n",
      "353  328000  3609000\n",
      "    easting northing\n",
      "357  327000  3609000\n",
      "    easting northing\n",
      "360  326000  3611000\n",
      "    easting northing\n",
      "363  327000  3608000\n",
      "    easting northing\n",
      "368  328000  3607000\n",
      "    easting northing\n",
      "372  325000  3609000\n",
      "[1] \"MOAB\"\n",
      "[1] 1\n",
      "  easting northing\n",
      "1  747000  4309000\n",
      "  easting northing\n",
      "4  746000  4309000\n",
      "  easting northing\n",
      "6  747000  4308000\n",
      "  easting northing\n",
      "8  746000  4306000\n",
      "   easting northing\n",
      "10  749000  4307000\n",
      "   easting northing\n",
      "11  748000  4307000\n",
      "   easting northing\n",
      "16  748000  4308000\n",
      "   easting northing\n",
      "46  297000  5042000\n",
      "   easting northing\n",
      "48  259000  5077000\n",
      "   easting northing\n",
      "59  259000  5076000\n",
      "   easting northing\n",
      "64  260000  5078000\n",
      "   easting northing\n",
      "67  261000  5079000\n",
      "   easting northing\n",
      "78  262000  5075000\n",
      "   easting northing\n",
      "83  262000  5076000\n",
      "   easting northing\n",
      "85  261000  5076000\n",
      "   easting northing\n",
      "92  707000  4331000\n",
      "    easting northing\n",
      "102  273000  3952000\n",
      "    easting northing\n",
      "108  273000  3951000\n",
      "    easting northing\n",
      "129  260000  3951000\n",
      "    easting northing\n",
      "141  270000  3951000\n",
      "    easting northing\n",
      "153  274000  3950000\n",
      "    easting northing\n",
      "157  276000  3950000\n",
      "    easting northing\n",
      "169  271000  3950000\n",
      "    easting northing\n",
      "185  275000  3941000\n",
      "    easting northing\n",
      "203  265000  3950000\n",
      "    easting northing\n",
      "219  272000  3952000\n",
      "    easting northing\n",
      "231  275000  3951000\n",
      "    easting northing\n",
      "237  744000  3983000\n",
      "    easting northing\n",
      "238  749000  3983000\n",
      "    easting northing\n",
      "240  751000  3985000\n",
      "    easting northing\n",
      "244  745000  3977000\n",
      "    easting northing\n",
      "248  740000  3979000\n",
      "    easting northing\n",
      "251  749000  3984000\n",
      "    easting northing\n",
      "257  746000  3979000\n",
      "    easting northing\n",
      "260  741000  3980000\n",
      "    easting northing\n",
      "263  740000  3978000\n",
      "    easting northing\n",
      "266  746000  3978000\n",
      "    easting northing\n",
      "269  745000  3983000\n",
      "    easting northing\n",
      "283  461000  3640000\n",
      "    easting northing\n",
      "284  462000  3645000\n",
      "    easting northing\n",
      "288  459000  3646000\n",
      "    easting northing\n",
      "290  462000  3639000\n",
      "    easting northing\n",
      "292  460000  3648000\n",
      "    easting northing\n",
      "297  459000  3642000\n",
      "    easting northing\n",
      "300  458000  3640000\n",
      "    easting northing\n",
      "302  459000  3648000\n",
      "    easting northing\n",
      "305  457000  3638000\n",
      "    easting northing\n",
      "319  462000  3646000\n",
      "    easting northing\n",
      "332  645000  4236000\n",
      "    easting northing\n",
      "335  644000  4236000\n",
      "    easting northing\n",
      "341  330000  3608000\n",
      "    easting northing\n",
      "342  331000  3607000\n",
      "    easting northing\n",
      "345  330000  3605000\n",
      "    easting northing\n",
      "347  325000  3611000\n",
      "    easting northing\n",
      "353  328000  3609000\n",
      "    easting northing\n",
      "357  327000  3609000\n",
      "    easting northing\n",
      "360  326000  3611000\n",
      "    easting northing\n",
      "363  327000  3608000\n",
      "    easting northing\n",
      "368  328000  3607000\n",
      "    easting northing\n",
      "372  325000  3609000\n",
      "[1] \"JORN\"\n",
      "[1] 1\n",
      "  easting northing\n",
      "1  747000  4309000\n",
      "  easting northing\n",
      "4  746000  4309000\n",
      "  easting northing\n",
      "6  747000  4308000\n",
      "  easting northing\n",
      "8  746000  4306000\n",
      "   easting northing\n",
      "10  749000  4307000\n",
      "   easting northing\n",
      "11  748000  4307000\n",
      "   easting northing\n",
      "16  748000  4308000\n",
      "   easting northing\n",
      "46  297000  5042000\n",
      "   easting northing\n",
      "48  259000  5077000\n",
      "   easting northing\n",
      "59  259000  5076000\n",
      "   easting northing\n",
      "64  260000  5078000\n",
      "   easting northing\n",
      "67  261000  5079000\n",
      "   easting northing\n",
      "78  262000  5075000\n",
      "   easting northing\n",
      "83  262000  5076000\n",
      "   easting northing\n",
      "85  261000  5076000\n",
      "   easting northing\n",
      "92  707000  4331000\n",
      "    easting northing\n",
      "102  273000  3952000\n",
      "    easting northing\n",
      "108  273000  3951000\n",
      "    easting northing\n",
      "129  260000  3951000\n",
      "    easting northing\n",
      "141  270000  3951000\n",
      "    easting northing\n",
      "153  274000  3950000\n",
      "    easting northing\n",
      "157  276000  3950000\n",
      "    easting northing\n",
      "169  271000  3950000\n",
      "    easting northing\n",
      "185  275000  3941000\n",
      "    easting northing\n",
      "203  265000  3950000\n",
      "    easting northing\n",
      "219  272000  3952000\n",
      "    easting northing\n",
      "231  275000  3951000\n",
      "    easting northing\n",
      "237  744000  3983000\n",
      "    easting northing\n",
      "238  749000  3983000\n",
      "    easting northing\n",
      "240  751000  3985000\n",
      "    easting northing\n",
      "244  745000  3977000\n",
      "    easting northing\n",
      "248  740000  3979000\n",
      "    easting northing\n",
      "251  749000  3984000\n",
      "    easting northing\n",
      "257  746000  3979000\n",
      "    easting northing\n",
      "260  741000  3980000\n",
      "    easting northing\n",
      "263  740000  3978000\n",
      "    easting northing\n",
      "266  746000  3978000\n",
      "    easting northing\n",
      "269  745000  3983000\n",
      "    easting northing\n",
      "283  461000  3640000\n",
      "    easting northing\n",
      "284  462000  3645000\n",
      "    easting northing\n",
      "288  459000  3646000\n",
      "    easting northing\n",
      "290  462000  3639000\n",
      "    easting northing\n",
      "292  460000  3648000\n",
      "    easting northing\n",
      "297  459000  3642000\n",
      "    easting northing\n",
      "300  458000  3640000\n",
      "    easting northing\n",
      "302  459000  3648000\n",
      "    easting northing\n",
      "305  457000  3638000\n",
      "    easting northing\n",
      "319  462000  3646000\n",
      "    easting northing\n",
      "332  645000  4236000\n",
      "    easting northing\n",
      "335  644000  4236000\n",
      "    easting northing\n",
      "341  330000  3608000\n",
      "    easting northing\n",
      "342  331000  3607000\n",
      "    easting northing\n",
      "345  330000  3605000\n",
      "    easting northing\n",
      "347  325000  3611000\n",
      "    easting northing\n",
      "353  328000  3609000\n",
      "    easting northing\n",
      "357  327000  3609000\n",
      "    easting northing\n",
      "360  326000  3611000\n",
      "    easting northing\n",
      "363  327000  3608000\n",
      "    easting northing\n",
      "368  328000  3607000\n",
      "    easting northing\n",
      "372  325000  3609000\n"
     ]
    }
   ],
   "source": [
    "for(i in unique(cfc$siteID)) {\n",
    "    print(i)\n",
    "    ind <- grep(i, urls)\n",
    "    if(length(ind)==0) {\n",
    "        next\n",
    "    }\n",
    "    for(j in 1:length(ind)) {\n",
    "        print(j)\n",
    "        fls <- httr::GET(urls[ind[j]])\n",
    "        list.files <- jsonlite::fromJSON(httr::content(fls, as=\"text\"))\n",
    "        for(k in 1:nrow(tiles)) {\n",
    "            print(tiles[k,])\n",
    "            if(length(intersect(intersect(grep(tiles$easting[k], list.files$data$files$name), \n",
    "                                   grep(tiles$northing[k], list.files$data$files$name)),\n",
    "                         grep(\"NDNI\", list.files$data$files$name)))>0) {\n",
    "                                    downloader::download(list.files$data$files$url[intersect(intersect(grep(tiles$easting[k], \n",
    "                                                                                  list.files$data$files$name), \n",
    "                                                                             grep(tiles$northing[k], \n",
    "                                                                                  list.files$data$files$name)),\n",
    "                                                                            grep(\"NDNI\",\n",
    "                                                                                list.files$data$files$name))],\n",
    "                                         paste(\"/Users/clunch/Dropbox/data/AOP\", \n",
    "                                               list.files$data$files$name[intersect(intersect(grep(tiles$easting[k], \n",
    "                                                                                  list.files$data$files$name), \n",
    "                                                                             grep(tiles$northing[k], \n",
    "                                                                                  list.files$data$files$name)),\n",
    "                                                                                   grep(\"NDNI\",\n",
    "                                                                                       list.files$data$files$name))], \n",
    "                                               sep=\"/\"))\n",
    "            } else {\n",
    "                next\n",
    "            }\n",
    "       }\n",
    "    }\n",
    "}"
   ]
  },
  {
   "cell_type": "markdown",
   "metadata": {},
   "source": [
    "NDLI:"
   ]
  },
  {
   "cell_type": "code",
   "execution_count": 55,
   "metadata": {},
   "outputs": [],
   "source": [
    "l.req <- httr::GET(\"http://data.neonscience.org/api/v0/products/DP3.30022.001\")\n",
    "avail <- jsonlite::fromJSON(httr::content(l.req, as=\"text\"))\n",
    "urls <- unlist(avail$data$siteCodes$availableDataUrls)"
   ]
  },
  {
   "cell_type": "code",
   "execution_count": 57,
   "metadata": {},
   "outputs": [
    {
     "name": "stdout",
     "output_type": "stream",
     "text": [
      "[1] \"SCBI\"\n",
      "[1] 1\n",
      "  easting northing\n",
      "1  747000  4309000\n",
      "  easting northing\n",
      "4  746000  4309000\n",
      "  easting northing\n",
      "6  747000  4308000\n",
      "  easting northing\n",
      "8  746000  4306000\n",
      "   easting northing\n",
      "10  749000  4307000\n",
      "   easting northing\n",
      "11  748000  4307000\n",
      "   easting northing\n",
      "16  748000  4308000\n",
      "   easting northing\n",
      "46  297000  5042000\n",
      "   easting northing\n",
      "48  259000  5077000\n",
      "   easting northing\n",
      "59  259000  5076000\n",
      "   easting northing\n",
      "64  260000  5078000\n",
      "   easting northing\n",
      "67  261000  5079000\n",
      "   easting northing\n",
      "78  262000  5075000\n",
      "   easting northing\n",
      "83  262000  5076000\n",
      "   easting northing\n",
      "85  261000  5076000\n",
      "   easting northing\n",
      "92  707000  4331000\n",
      "    easting northing\n",
      "102  273000  3952000\n",
      "    easting northing\n",
      "108  273000  3951000\n",
      "    easting northing\n",
      "129  260000  3951000\n",
      "    easting northing\n",
      "141  270000  3951000\n",
      "    easting northing\n",
      "153  274000  3950000\n",
      "    easting northing\n",
      "157  276000  3950000\n",
      "    easting northing\n",
      "169  271000  3950000\n",
      "    easting northing\n",
      "185  275000  3941000\n",
      "    easting northing\n",
      "203  265000  3950000\n",
      "    easting northing\n",
      "219  272000  3952000\n",
      "    easting northing\n",
      "231  275000  3951000\n",
      "    easting northing\n",
      "237  744000  3983000\n",
      "    easting northing\n",
      "238  749000  3983000\n",
      "    easting northing\n",
      "240  751000  3985000\n",
      "    easting northing\n",
      "244  745000  3977000\n",
      "    easting northing\n",
      "248  740000  3979000\n",
      "    easting northing\n",
      "251  749000  3984000\n",
      "    easting northing\n",
      "257  746000  3979000\n",
      "    easting northing\n",
      "260  741000  3980000\n",
      "    easting northing\n",
      "263  740000  3978000\n",
      "    easting northing\n",
      "266  746000  3978000\n",
      "    easting northing\n",
      "269  745000  3983000\n",
      "    easting northing\n",
      "283  461000  3640000\n",
      "    easting northing\n",
      "284  462000  3645000\n",
      "    easting northing\n",
      "288  459000  3646000\n",
      "    easting northing\n",
      "290  462000  3639000\n",
      "    easting northing\n",
      "292  460000  3648000\n",
      "    easting northing\n",
      "297  459000  3642000\n",
      "    easting northing\n",
      "300  458000  3640000\n",
      "    easting northing\n",
      "302  459000  3648000\n",
      "    easting northing\n",
      "305  457000  3638000\n",
      "    easting northing\n",
      "319  462000  3646000\n",
      "    easting northing\n",
      "332  645000  4236000\n",
      "    easting northing\n",
      "335  644000  4236000\n",
      "    easting northing\n",
      "341  330000  3608000\n",
      "    easting northing\n",
      "342  331000  3607000\n",
      "    easting northing\n",
      "345  330000  3605000\n",
      "    easting northing\n",
      "347  325000  3611000\n",
      "    easting northing\n",
      "353  328000  3609000\n",
      "    easting northing\n",
      "357  327000  3609000\n",
      "    easting northing\n",
      "360  326000  3611000\n",
      "    easting northing\n",
      "363  327000  3608000\n",
      "    easting northing\n",
      "368  328000  3607000\n",
      "    easting northing\n",
      "372  325000  3609000\n",
      "[1] \"STEI\"\n",
      "[1] 1\n",
      "  easting northing\n",
      "1  747000  4309000\n",
      "  easting northing\n",
      "4  746000  4309000\n",
      "  easting northing\n",
      "6  747000  4308000\n",
      "  easting northing\n",
      "8  746000  4306000\n",
      "   easting northing\n",
      "10  749000  4307000\n",
      "   easting northing\n",
      "11  748000  4307000\n",
      "   easting northing\n",
      "16  748000  4308000\n",
      "   easting northing\n",
      "46  297000  5042000\n",
      "   easting northing\n",
      "48  259000  5077000\n",
      "   easting northing\n",
      "59  259000  5076000\n",
      "   easting northing\n",
      "64  260000  5078000\n",
      "   easting northing\n",
      "67  261000  5079000\n",
      "   easting northing\n",
      "78  262000  5075000\n",
      "   easting northing\n",
      "83  262000  5076000\n",
      "   easting northing\n",
      "85  261000  5076000\n",
      "   easting northing\n",
      "92  707000  4331000\n",
      "    easting northing\n",
      "102  273000  3952000\n",
      "    easting northing\n",
      "108  273000  3951000\n",
      "    easting northing\n",
      "129  260000  3951000\n",
      "    easting northing\n",
      "141  270000  3951000\n",
      "    easting northing\n",
      "153  274000  3950000\n",
      "    easting northing\n",
      "157  276000  3950000\n",
      "    easting northing\n",
      "169  271000  3950000\n",
      "    easting northing\n",
      "185  275000  3941000\n",
      "    easting northing\n",
      "203  265000  3950000\n",
      "    easting northing\n",
      "219  272000  3952000\n",
      "    easting northing\n",
      "231  275000  3951000\n",
      "    easting northing\n",
      "237  744000  3983000\n",
      "    easting northing\n",
      "238  749000  3983000\n",
      "    easting northing\n",
      "240  751000  3985000\n",
      "    easting northing\n",
      "244  745000  3977000\n",
      "    easting northing\n",
      "248  740000  3979000\n",
      "    easting northing\n",
      "251  749000  3984000\n",
      "    easting northing\n",
      "257  746000  3979000\n",
      "    easting northing\n",
      "260  741000  3980000\n",
      "    easting northing\n",
      "263  740000  3978000\n",
      "    easting northing\n",
      "266  746000  3978000\n",
      "    easting northing\n",
      "269  745000  3983000\n",
      "    easting northing\n",
      "283  461000  3640000\n",
      "    easting northing\n",
      "284  462000  3645000\n",
      "    easting northing\n",
      "288  459000  3646000\n",
      "    easting northing\n",
      "290  462000  3639000\n",
      "    easting northing\n",
      "292  460000  3648000\n",
      "    easting northing\n",
      "297  459000  3642000\n",
      "    easting northing\n",
      "300  458000  3640000\n",
      "    easting northing\n",
      "302  459000  3648000\n",
      "    easting northing\n",
      "305  457000  3638000\n",
      "    easting northing\n",
      "319  462000  3646000\n",
      "    easting northing\n",
      "332  645000  4236000\n",
      "    easting northing\n",
      "335  644000  4236000\n",
      "    easting northing\n",
      "341  330000  3608000\n",
      "    easting northing\n",
      "342  331000  3607000\n",
      "    easting northing\n",
      "345  330000  3605000\n",
      "    easting northing\n",
      "347  325000  3611000\n",
      "    easting northing\n",
      "353  328000  3609000\n",
      "    easting northing\n",
      "357  327000  3609000\n",
      "    easting northing\n",
      "360  326000  3611000\n",
      "    easting northing\n",
      "363  327000  3608000\n",
      "    easting northing\n",
      "368  328000  3607000\n",
      "    easting northing\n",
      "372  325000  3609000\n",
      "[1] \"KONZ\"\n",
      "[1] 1\n",
      "  easting northing\n",
      "1  747000  4309000\n",
      "  easting northing\n",
      "4  746000  4309000\n",
      "  easting northing\n",
      "6  747000  4308000\n",
      "  easting northing\n",
      "8  746000  4306000\n",
      "   easting northing\n",
      "10  749000  4307000\n",
      "   easting northing\n",
      "11  748000  4307000\n",
      "   easting northing\n",
      "16  748000  4308000\n",
      "   easting northing\n",
      "46  297000  5042000\n",
      "   easting northing\n",
      "48  259000  5077000\n",
      "   easting northing\n",
      "59  259000  5076000\n",
      "   easting northing\n",
      "64  260000  5078000\n",
      "   easting northing\n",
      "67  261000  5079000\n",
      "   easting northing\n",
      "78  262000  5075000\n",
      "   easting northing\n",
      "83  262000  5076000\n",
      "   easting northing\n",
      "85  261000  5076000\n",
      "   easting northing\n",
      "92  707000  4331000\n",
      "    easting northing\n",
      "102  273000  3952000\n",
      "    easting northing\n",
      "108  273000  3951000\n",
      "    easting northing\n",
      "129  260000  3951000\n",
      "    easting northing\n",
      "141  270000  3951000\n",
      "    easting northing\n",
      "153  274000  3950000\n",
      "    easting northing\n",
      "157  276000  3950000\n",
      "    easting northing\n",
      "169  271000  3950000\n",
      "    easting northing\n",
      "185  275000  3941000\n",
      "    easting northing\n",
      "203  265000  3950000\n",
      "    easting northing\n",
      "219  272000  3952000\n",
      "    easting northing\n",
      "231  275000  3951000\n",
      "    easting northing\n",
      "237  744000  3983000\n",
      "    easting northing\n",
      "238  749000  3983000\n",
      "    easting northing\n",
      "240  751000  3985000\n",
      "    easting northing\n",
      "244  745000  3977000\n",
      "    easting northing\n",
      "248  740000  3979000\n",
      "    easting northing\n",
      "251  749000  3984000\n",
      "    easting northing\n",
      "257  746000  3979000\n",
      "    easting northing\n",
      "260  741000  3980000\n",
      "    easting northing\n",
      "263  740000  3978000\n",
      "    easting northing\n",
      "266  746000  3978000\n",
      "    easting northing\n",
      "269  745000  3983000\n",
      "    easting northing\n",
      "283  461000  3640000\n",
      "    easting northing\n",
      "284  462000  3645000\n",
      "    easting northing\n",
      "288  459000  3646000\n",
      "    easting northing\n",
      "290  462000  3639000\n",
      "    easting northing\n",
      "292  460000  3648000\n",
      "    easting northing\n",
      "297  459000  3642000\n",
      "    easting northing\n",
      "300  458000  3640000\n",
      "    easting northing\n",
      "302  459000  3648000\n",
      "    easting northing\n",
      "305  457000  3638000\n",
      "    easting northing\n",
      "319  462000  3646000\n",
      "    easting northing\n",
      "332  645000  4236000\n",
      "    easting northing\n",
      "335  644000  4236000\n",
      "    easting northing\n",
      "341  330000  3608000\n",
      "    easting northing\n",
      "342  331000  3607000\n",
      "    easting northing\n",
      "345  330000  3605000\n",
      "    easting northing\n",
      "347  325000  3611000\n",
      "    easting northing\n",
      "353  328000  3609000\n",
      "    easting northing\n",
      "357  327000  3609000\n",
      "    easting northing\n",
      "360  326000  3611000\n",
      "    easting northing\n",
      "363  327000  3608000\n",
      "    easting northing\n",
      "368  328000  3607000\n",
      "    easting northing\n",
      "372  325000  3609000\n",
      "[1] \"GRSM\"\n",
      "[1] \"ORNL\"\n",
      "[1] \"TALL\"\n",
      "[1] 1\n",
      "  easting northing\n",
      "1  747000  4309000\n",
      "  easting northing\n",
      "4  746000  4309000\n",
      "  easting northing\n",
      "6  747000  4308000\n",
      "  easting northing\n",
      "8  746000  4306000\n",
      "   easting northing\n",
      "10  749000  4307000\n",
      "   easting northing\n",
      "11  748000  4307000\n",
      "   easting northing\n",
      "16  748000  4308000\n",
      "   easting northing\n",
      "46  297000  5042000\n",
      "   easting northing\n",
      "48  259000  5077000\n",
      "   easting northing\n",
      "59  259000  5076000\n",
      "   easting northing\n",
      "64  260000  5078000\n",
      "   easting northing\n",
      "67  261000  5079000\n",
      "   easting northing\n",
      "78  262000  5075000\n",
      "   easting northing\n",
      "83  262000  5076000\n",
      "   easting northing\n",
      "85  261000  5076000\n",
      "   easting northing\n",
      "92  707000  4331000\n",
      "    easting northing\n",
      "102  273000  3952000\n",
      "    easting northing\n",
      "108  273000  3951000\n",
      "    easting northing\n",
      "129  260000  3951000\n",
      "    easting northing\n",
      "141  270000  3951000\n",
      "    easting northing\n",
      "153  274000  3950000\n",
      "    easting northing\n",
      "157  276000  3950000\n",
      "    easting northing\n",
      "169  271000  3950000\n",
      "    easting northing\n",
      "185  275000  3941000\n",
      "    easting northing\n",
      "203  265000  3950000\n",
      "    easting northing\n",
      "219  272000  3952000\n",
      "    easting northing\n",
      "231  275000  3951000\n",
      "    easting northing\n",
      "237  744000  3983000\n",
      "    easting northing\n",
      "238  749000  3983000\n",
      "    easting northing\n",
      "240  751000  3985000\n",
      "    easting northing\n",
      "244  745000  3977000\n",
      "    easting northing\n",
      "248  740000  3979000\n",
      "    easting northing\n",
      "251  749000  3984000\n",
      "    easting northing\n",
      "257  746000  3979000\n",
      "    easting northing\n",
      "260  741000  3980000\n",
      "    easting northing\n",
      "263  740000  3978000\n",
      "    easting northing\n",
      "266  746000  3978000\n",
      "    easting northing\n",
      "269  745000  3983000\n",
      "    easting northing\n",
      "283  461000  3640000\n"
     ]
    },
    {
     "name": "stdout",
     "output_type": "stream",
     "text": [
      "    easting northing\n",
      "284  462000  3645000\n",
      "    easting northing\n",
      "288  459000  3646000\n",
      "    easting northing\n",
      "290  462000  3639000\n",
      "    easting northing\n",
      "292  460000  3648000\n",
      "    easting northing\n",
      "297  459000  3642000\n",
      "    easting northing\n",
      "300  458000  3640000\n",
      "    easting northing\n",
      "302  459000  3648000\n",
      "    easting northing\n",
      "305  457000  3638000\n",
      "    easting northing\n",
      "319  462000  3646000\n",
      "    easting northing\n",
      "332  645000  4236000\n",
      "    easting northing\n",
      "335  644000  4236000\n",
      "    easting northing\n",
      "341  330000  3608000\n",
      "    easting northing\n",
      "342  331000  3607000\n",
      "    easting northing\n",
      "345  330000  3605000\n",
      "    easting northing\n",
      "347  325000  3611000\n",
      "    easting northing\n",
      "353  328000  3609000\n",
      "    easting northing\n",
      "357  327000  3609000\n",
      "    easting northing\n",
      "360  326000  3611000\n",
      "    easting northing\n",
      "363  327000  3608000\n",
      "    easting northing\n",
      "368  328000  3607000\n",
      "    easting northing\n",
      "372  325000  3609000\n",
      "[1] \"MOAB\"\n",
      "[1] 1\n",
      "  easting northing\n",
      "1  747000  4309000\n",
      "  easting northing\n",
      "4  746000  4309000\n",
      "  easting northing\n",
      "6  747000  4308000\n",
      "  easting northing\n",
      "8  746000  4306000\n",
      "   easting northing\n",
      "10  749000  4307000\n",
      "   easting northing\n",
      "11  748000  4307000\n",
      "   easting northing\n",
      "16  748000  4308000\n",
      "   easting northing\n",
      "46  297000  5042000\n",
      "   easting northing\n",
      "48  259000  5077000\n",
      "   easting northing\n",
      "59  259000  5076000\n",
      "   easting northing\n",
      "64  260000  5078000\n",
      "   easting northing\n",
      "67  261000  5079000\n",
      "   easting northing\n",
      "78  262000  5075000\n",
      "   easting northing\n",
      "83  262000  5076000\n",
      "   easting northing\n",
      "85  261000  5076000\n",
      "   easting northing\n",
      "92  707000  4331000\n",
      "    easting northing\n",
      "102  273000  3952000\n",
      "    easting northing\n",
      "108  273000  3951000\n",
      "    easting northing\n",
      "129  260000  3951000\n",
      "    easting northing\n",
      "141  270000  3951000\n",
      "    easting northing\n",
      "153  274000  3950000\n",
      "    easting northing\n",
      "157  276000  3950000\n",
      "    easting northing\n",
      "169  271000  3950000\n",
      "    easting northing\n",
      "185  275000  3941000\n",
      "    easting northing\n",
      "203  265000  3950000\n",
      "    easting northing\n",
      "219  272000  3952000\n",
      "    easting northing\n",
      "231  275000  3951000\n",
      "    easting northing\n",
      "237  744000  3983000\n",
      "    easting northing\n",
      "238  749000  3983000\n",
      "    easting northing\n",
      "240  751000  3985000\n",
      "    easting northing\n",
      "244  745000  3977000\n",
      "    easting northing\n",
      "248  740000  3979000\n",
      "    easting northing\n",
      "251  749000  3984000\n",
      "    easting northing\n",
      "257  746000  3979000\n",
      "    easting northing\n",
      "260  741000  3980000\n",
      "    easting northing\n",
      "263  740000  3978000\n",
      "    easting northing\n",
      "266  746000  3978000\n",
      "    easting northing\n",
      "269  745000  3983000\n",
      "    easting northing\n",
      "283  461000  3640000\n",
      "    easting northing\n",
      "284  462000  3645000\n",
      "    easting northing\n",
      "288  459000  3646000\n",
      "    easting northing\n",
      "290  462000  3639000\n",
      "    easting northing\n",
      "292  460000  3648000\n",
      "    easting northing\n",
      "297  459000  3642000\n",
      "    easting northing\n",
      "300  458000  3640000\n",
      "    easting northing\n",
      "302  459000  3648000\n",
      "    easting northing\n",
      "305  457000  3638000\n",
      "    easting northing\n",
      "319  462000  3646000\n",
      "    easting northing\n",
      "332  645000  4236000\n",
      "    easting northing\n",
      "335  644000  4236000\n",
      "    easting northing\n",
      "341  330000  3608000\n",
      "    easting northing\n",
      "342  331000  3607000\n",
      "    easting northing\n",
      "345  330000  3605000\n",
      "    easting northing\n",
      "347  325000  3611000\n",
      "    easting northing\n",
      "353  328000  3609000\n",
      "    easting northing\n",
      "357  327000  3609000\n",
      "    easting northing\n",
      "360  326000  3611000\n",
      "    easting northing\n",
      "363  327000  3608000\n",
      "    easting northing\n",
      "368  328000  3607000\n",
      "    easting northing\n",
      "372  325000  3609000\n",
      "[1] \"JORN\"\n",
      "[1] 1\n",
      "  easting northing\n",
      "1  747000  4309000\n",
      "  easting northing\n",
      "4  746000  4309000\n",
      "  easting northing\n",
      "6  747000  4308000\n",
      "  easting northing\n",
      "8  746000  4306000\n",
      "   easting northing\n",
      "10  749000  4307000\n",
      "   easting northing\n",
      "11  748000  4307000\n",
      "   easting northing\n",
      "16  748000  4308000\n",
      "   easting northing\n",
      "46  297000  5042000\n",
      "   easting northing\n",
      "48  259000  5077000\n",
      "   easting northing\n",
      "59  259000  5076000\n",
      "   easting northing\n",
      "64  260000  5078000\n",
      "   easting northing\n",
      "67  261000  5079000\n",
      "   easting northing\n",
      "78  262000  5075000\n",
      "   easting northing\n",
      "83  262000  5076000\n",
      "   easting northing\n",
      "85  261000  5076000\n",
      "   easting northing\n",
      "92  707000  4331000\n",
      "    easting northing\n",
      "102  273000  3952000\n",
      "    easting northing\n",
      "108  273000  3951000\n",
      "    easting northing\n",
      "129  260000  3951000\n",
      "    easting northing\n",
      "141  270000  3951000\n",
      "    easting northing\n",
      "153  274000  3950000\n",
      "    easting northing\n",
      "157  276000  3950000\n",
      "    easting northing\n",
      "169  271000  3950000\n",
      "    easting northing\n",
      "185  275000  3941000\n",
      "    easting northing\n",
      "203  265000  3950000\n",
      "    easting northing\n",
      "219  272000  3952000\n",
      "    easting northing\n",
      "231  275000  3951000\n",
      "    easting northing\n",
      "237  744000  3983000\n",
      "    easting northing\n",
      "238  749000  3983000\n",
      "    easting northing\n",
      "240  751000  3985000\n",
      "    easting northing\n",
      "244  745000  3977000\n",
      "    easting northing\n",
      "248  740000  3979000\n",
      "    easting northing\n",
      "251  749000  3984000\n",
      "    easting northing\n",
      "257  746000  3979000\n",
      "    easting northing\n",
      "260  741000  3980000\n",
      "    easting northing\n",
      "263  740000  3978000\n",
      "    easting northing\n",
      "266  746000  3978000\n",
      "    easting northing\n",
      "269  745000  3983000\n",
      "    easting northing\n",
      "283  461000  3640000\n",
      "    easting northing\n",
      "284  462000  3645000\n",
      "    easting northing\n",
      "288  459000  3646000\n",
      "    easting northing\n",
      "290  462000  3639000\n",
      "    easting northing\n",
      "292  460000  3648000\n",
      "    easting northing\n",
      "297  459000  3642000\n",
      "    easting northing\n",
      "300  458000  3640000\n",
      "    easting northing\n",
      "302  459000  3648000\n",
      "    easting northing\n",
      "305  457000  3638000\n",
      "    easting northing\n",
      "319  462000  3646000\n",
      "    easting northing\n",
      "332  645000  4236000\n",
      "    easting northing\n",
      "335  644000  4236000\n",
      "    easting northing\n",
      "341  330000  3608000\n",
      "    easting northing\n",
      "342  331000  3607000\n",
      "    easting northing\n",
      "345  330000  3605000\n",
      "    easting northing\n",
      "347  325000  3611000\n",
      "    easting northing\n",
      "353  328000  3609000\n",
      "    easting northing\n",
      "357  327000  3609000\n",
      "    easting northing\n",
      "360  326000  3611000\n",
      "    easting northing\n",
      "363  327000  3608000\n",
      "    easting northing\n",
      "368  328000  3607000\n",
      "    easting northing\n",
      "372  325000  3609000\n"
     ]
    }
   ],
   "source": [
    "for(i in unique(cfc$siteID)) {\n",
    "    print(i)\n",
    "    ind <- grep(i, urls)\n",
    "    if(length(ind)==0) {\n",
    "        next\n",
    "    }\n",
    "    for(j in 1:length(ind)) {\n",
    "        print(j)\n",
    "        fls <- httr::GET(urls[ind[j]])\n",
    "        list.files <- jsonlite::fromJSON(httr::content(fls, as=\"text\"))\n",
    "        for(k in 1:nrow(tiles)) {\n",
    "            print(tiles[k,])\n",
    "            if(length(intersect(intersect(grep(tiles$easting[k], list.files$data$files$name), \n",
    "                                   grep(tiles$northing[k], list.files$data$files$name)),\n",
    "                         grep(\"NDLI\", list.files$data$files$name)))>0) {\n",
    "                                    downloader::download(list.files$data$files$url[intersect(intersect(grep(tiles$easting[k], \n",
    "                                                                                  list.files$data$files$name), \n",
    "                                                                             grep(tiles$northing[k], \n",
    "                                                                                  list.files$data$files$name)),\n",
    "                                                                            grep(\"NDLI\",\n",
    "                                                                                list.files$data$files$name))],\n",
    "                                         paste(\"/Users/clunch/Dropbox/data/AOP\", \n",
    "                                               list.files$data$files$name[intersect(intersect(grep(tiles$easting[k], \n",
    "                                                                                  list.files$data$files$name), \n",
    "                                                                             grep(tiles$northing[k], \n",
    "                                                                                  list.files$data$files$name)),\n",
    "                                                                                   grep(\"NDLI\",\n",
    "                                                                                       list.files$data$files$name))], \n",
    "                                               sep=\"/\"))\n",
    "            } else {\n",
    "                next\n",
    "            }\n",
    "       }\n",
    "    }\n",
    "}"
   ]
  },
  {
   "cell_type": "markdown",
   "metadata": {},
   "source": [
    "## 4. Load remotely sensed data\n",
    "\n",
    "Make one merged raster per site per product. One giant raster seems like a bad idea, given differing UTM zones etc"
   ]
  },
  {
   "cell_type": "code",
   "execution_count": 8,
   "metadata": {},
   "outputs": [
    {
     "data": {
      "text/html": [
       "<ol class=list-inline>\n",
       "\t<li>'SCBI'</li>\n",
       "\t<li>'STEI'</li>\n",
       "\t<li>'KONZ'</li>\n",
       "\t<li>'TALL'</li>\n",
       "</ol>\n"
      ],
      "text/latex": [
       "\\begin{enumerate*}\n",
       "\\item 'SCBI'\n",
       "\\item 'STEI'\n",
       "\\item 'KONZ'\n",
       "\\item 'TALL'\n",
       "\\end{enumerate*}\n"
      ],
      "text/markdown": [
       "1. 'SCBI'\n",
       "2. 'STEI'\n",
       "3. 'KONZ'\n",
       "4. 'TALL'\n",
       "\n",
       "\n"
      ],
      "text/plain": [
       "[1] \"SCBI\" \"STEI\" \"KONZ\" \"TALL\""
      ]
     },
     "metadata": {},
     "output_type": "display_data"
    }
   ],
   "source": [
    "files <- list.files(\"/Users/clunch/Dropbox/data/AOP/\")\n",
    "sites <- substring(files, 10, 13)\n",
    "unique(sites)"
   ]
  },
  {
   "cell_type": "code",
   "execution_count": 9,
   "metadata": {},
   "outputs": [],
   "source": [
    "tileList <- list()\n",
    "for(i in 1:length(files)) {\n",
    "    tileList[[i]] <- raster(paste0(\"/Users/clunch/Dropbox/data/AOP/\", files[i]))\n",
    "}"
   ]
  },
  {
   "cell_type": "code",
   "execution_count": 26,
   "metadata": {},
   "outputs": [],
   "source": [
    "ind <- intersect(grep(\"SCBI\", tileList), grep(\"NDNI\", tileList))\n",
    "scbiList <- tileList[ind]\n",
    "NDNIscbi <- do.call(raster::merge, scbiList)"
   ]
  },
  {
   "cell_type": "code",
   "execution_count": 27,
   "metadata": {},
   "outputs": [
    {
     "data": {
      "image/png": "[encoded data removed]",
      "text/plain": [
       "Plot with title “”"
      ]
     },
     "metadata": {},
     "output_type": "display_data"
    }
   ],
   "source": [
    "plot(NDNIscbi)"
   ]
  },
  {
   "cell_type": "code",
   "execution_count": 34,
   "metadata": {},
   "outputs": [],
   "source": [
    "# only one tile each from STEI and KONZ\n",
    "NDNIstei <- tileList[intersect(grep(\"STEI\", tileList), grep(\"NDNI\", tileList))]\n",
    "NDNIkonz <- tileList[intersect(grep(\"KONZ\", tileList), grep(\"NDNI\", tileList))]\n"
   ]
  },
  {
   "cell_type": "markdown",
   "metadata": {},
   "source": [
    "## 5. Compare indices to leaf chemistry\n"
   ]
  },
  {
   "cell_type": "code",
   "execution_count": null,
   "metadata": {},
   "outputs": [],
   "source": []
  }
 ],
 "metadata": {
  "kernelspec": {
   "display_name": "R",
   "language": "R",
   "name": "ir"
  },
  "language_info": {
   "codemirror_mode": "r",
   "file_extension": ".r",
   "mimetype": "text/x-r-source",
   "name": "R",
   "pygments_lexer": "r",
   "version": "3.5.0"
  }
 },
 "nbformat": 4,
 "nbformat_minor": 2
}
