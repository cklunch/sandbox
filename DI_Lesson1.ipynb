{
 "cells": [
  {
   "cell_type": "markdown",
   "metadata": {},
   "source": [
    "Notes:\n",
    "To install the current Anaconda but then run a notebook in Python 3.5 instead of 3.6, I followed the instructions here: https://docs.anaconda.com/anaconda/faq#how-do-i-get-the-latest-anaconda-with-python-3-5\n",
    "and then the instructions here: https://towardsdatascience.com/environment-management-with-conda-python-2-3-b9961a8a5097"
   ]
  },
  {
   "cell_type": "code",
   "execution_count": 1,
   "metadata": {},
   "outputs": [
    {
     "data": {
      "text/plain": [
       "'3.5.5 |Anaconda, Inc.| (default, Apr 26 2018, 08:11:22) \\n[GCC 4.2.1 Compatible Clang 4.0.1 (tags/RELEASE_401/final)]'"
      ]
     },
     "execution_count": 1,
     "metadata": {},
     "output_type": "execute_result"
    }
   ],
   "source": [
    "import sys\n",
    "sys.version"
   ]
  },
  {
   "cell_type": "markdown",
   "metadata": {},
   "source": [
    "To make these packages available, I did this in the command line:\n",
    "```\n",
    "source activate ipy35\n",
    "pip install numpy\n",
    "pip install h5py\n",
    "pip install osr\n",
    "pip install matplotlib\n",
    "conda install gdal\n",
    "```"
   ]
  },
  {
   "cell_type": "code",
   "execution_count": 40,
   "metadata": {},
   "outputs": [],
   "source": [
    "import numpy as np\n",
    "import h5py\n",
    "import gdal, osr, os\n",
    "import matplotlib.pyplot as plt"
   ]
  },
  {
   "cell_type": "code",
   "execution_count": 8,
   "metadata": {},
   "outputs": [],
   "source": [
    "%matplotlib inline\n",
    "import warnings\n",
    "warnings.filterwarnings('ignore')"
   ]
  },
  {
   "cell_type": "markdown",
   "metadata": {},
   "source": [
    "I couldn't get the file used in the lesson, so I downloaded this one from the API. TEAK 2017 was the only site-year I could find on the API with DP3.30006.001\n",
    "\n",
    "It would be helpful to mention that that's the data product whose data we're exploring here"
   ]
  },
  {
   "cell_type": "code",
   "execution_count": 10,
   "metadata": {},
   "outputs": [],
   "source": [
    "f = h5py.File('/Users/clunch/Desktop/NEON_D17_TEAK_DP3_312000_4092000_reflectance.h5','r')"
   ]
  },
  {
   "cell_type": "code",
   "execution_count": 11,
   "metadata": {},
   "outputs": [],
   "source": [
    "def list_dataset(name,node):\n",
    "    if isinstance(node, h5py.Dataset):\n",
    "        print(name)"
   ]
  },
  {
   "cell_type": "code",
   "execution_count": 12,
   "metadata": {},
   "outputs": [
    {
     "name": "stdout",
     "output_type": "stream",
     "text": [
      "TEAK/Reflectance/Metadata/Ancillary_Imagery/Aerosol_Optical_Depth\n",
      "TEAK/Reflectance/Metadata/Ancillary_Imagery/Aspect\n",
      "TEAK/Reflectance/Metadata/Ancillary_Imagery/Cast_Shadow\n",
      "TEAK/Reflectance/Metadata/Ancillary_Imagery/Dark_Dense_Vegetation_Classification\n",
      "TEAK/Reflectance/Metadata/Ancillary_Imagery/Data_Selection_Index\n",
      "TEAK/Reflectance/Metadata/Ancillary_Imagery/Haze_Cloud_Water_Map\n",
      "TEAK/Reflectance/Metadata/Ancillary_Imagery/Illumination_Factor\n",
      "TEAK/Reflectance/Metadata/Ancillary_Imagery/Path_Length\n",
      "TEAK/Reflectance/Metadata/Ancillary_Imagery/Sky_View_Factor\n",
      "TEAK/Reflectance/Metadata/Ancillary_Imagery/Slope\n",
      "TEAK/Reflectance/Metadata/Ancillary_Imagery/Smooth_Surface_Elevation\n",
      "TEAK/Reflectance/Metadata/Ancillary_Imagery/Visibility_Index_Map\n",
      "TEAK/Reflectance/Metadata/Ancillary_Imagery/Water_Vapor_Column\n",
      "TEAK/Reflectance/Metadata/Ancillary_Imagery/Weather_Quality_Indicator\n",
      "TEAK/Reflectance/Metadata/Coordinate_System/Coordinate_System_String\n",
      "TEAK/Reflectance/Metadata/Coordinate_System/EPSG Code\n",
      "TEAK/Reflectance/Metadata/Coordinate_System/Map_Info\n",
      "TEAK/Reflectance/Metadata/Coordinate_System/Proj4\n",
      "TEAK/Reflectance/Metadata/Logs/184110/ATCOR_Input_file\n",
      "TEAK/Reflectance/Metadata/Logs/184110/ATCOR_Processing_Log\n",
      "TEAK/Reflectance/Metadata/Logs/184110/Shadow_Processing_Log\n",
      "TEAK/Reflectance/Metadata/Logs/184110/Skyview_Processing_Log\n",
      "TEAK/Reflectance/Metadata/Logs/184110/Solar_Azimuth_Angle\n",
      "TEAK/Reflectance/Metadata/Logs/184110/Solar_Zenith_Angle\n",
      "TEAK/Reflectance/Metadata/Spectral_Data/FWHM\n",
      "TEAK/Reflectance/Metadata/Spectral_Data/Wavelength\n",
      "TEAK/Reflectance/Metadata/to-sensor_azimuth_angle\n",
      "TEAK/Reflectance/Metadata/to-sensor_zenith_angle\n",
      "TEAK/Reflectance/Reflectance_Data\n"
     ]
    }
   ],
   "source": [
    "f.visititems(list_dataset)"
   ]
  },
  {
   "cell_type": "code",
   "execution_count": 13,
   "metadata": {},
   "outputs": [],
   "source": [
    "def ls_dataset(name,node):\n",
    "    if isinstance(node,h5py.Dataset):\n",
    "        print(node)"
   ]
  },
  {
   "cell_type": "code",
   "execution_count": 14,
   "metadata": {},
   "outputs": [
    {
     "name": "stdout",
     "output_type": "stream",
     "text": [
      "<HDF5 dataset \"Aerosol_Optical_Depth\": shape (1000, 1000), type \"<i2\">\n",
      "<HDF5 dataset \"Aspect\": shape (1000, 1000), type \"<f4\">\n",
      "<HDF5 dataset \"Cast_Shadow\": shape (1000, 1000), type \"|u1\">\n",
      "<HDF5 dataset \"Dark_Dense_Vegetation_Classification\": shape (1000, 1000), type \"|u1\">\n",
      "<HDF5 dataset \"Data_Selection_Index\": shape (1000, 1000), type \"<i4\">\n",
      "<HDF5 dataset \"Haze_Cloud_Water_Map\": shape (1000, 1000), type \"|u1\">\n",
      "<HDF5 dataset \"Illumination_Factor\": shape (1000, 1000), type \"|u1\">\n",
      "<HDF5 dataset \"Path_Length\": shape (1000, 1000), type \"<f4\">\n",
      "<HDF5 dataset \"Sky_View_Factor\": shape (1000, 1000), type \"|u1\">\n",
      "<HDF5 dataset \"Slope\": shape (1000, 1000), type \"<f4\">\n",
      "<HDF5 dataset \"Smooth_Surface_Elevation\": shape (1000, 1000), type \"<f4\">\n",
      "<HDF5 dataset \"Visibility_Index_Map\": shape (1000, 1000), type \"|u1\">\n",
      "<HDF5 dataset \"Water_Vapor_Column\": shape (1000, 1000), type \"<f4\">\n",
      "<HDF5 dataset \"Weather_Quality_Indicator\": shape (1000, 1000, 3), type \"|u1\">\n",
      "<HDF5 dataset \"Coordinate_System_String\": shape (), type \"|O\">\n",
      "<HDF5 dataset \"EPSG Code\": shape (), type \"|O\">\n",
      "<HDF5 dataset \"Map_Info\": shape (), type \"|O\">\n",
      "<HDF5 dataset \"Proj4\": shape (), type \"|O\">\n",
      "<HDF5 dataset \"ATCOR_Input_file\": shape (), type \"|O\">\n",
      "<HDF5 dataset \"ATCOR_Processing_Log\": shape (), type \"|O\">\n",
      "<HDF5 dataset \"Shadow_Processing_Log\": shape (), type \"|O\">\n",
      "<HDF5 dataset \"Skyview_Processing_Log\": shape (), type \"|O\">\n",
      "<HDF5 dataset \"Solar_Azimuth_Angle\": shape (), type \"<f4\">\n",
      "<HDF5 dataset \"Solar_Zenith_Angle\": shape (), type \"<f4\">\n",
      "<HDF5 dataset \"FWHM\": shape (426,), type \"<f4\">\n",
      "<HDF5 dataset \"Wavelength\": shape (426,), type \"<f4\">\n",
      "<HDF5 dataset \"to-sensor_azimuth_angle\": shape (1000, 1000), type \"<f4\">\n",
      "<HDF5 dataset \"to-sensor_zenith_angle\": shape (1000, 1000), type \"<f4\">\n",
      "<HDF5 dataset \"Reflectance_Data\": shape (1000, 1000, 426), type \"<i2\">\n"
     ]
    }
   ],
   "source": [
    "f.visititems(ls_dataset)"
   ]
  },
  {
   "cell_type": "code",
   "execution_count": 15,
   "metadata": {},
   "outputs": [
    {
     "name": "stdout",
     "output_type": "stream",
     "text": [
      "<HDF5 group \"/TEAK/Reflectance\" (2 members)>\n"
     ]
    }
   ],
   "source": [
    "teak_refl = f['TEAK']['Reflectance']\n",
    "print(teak_refl)"
   ]
  },
  {
   "cell_type": "code",
   "execution_count": 17,
   "metadata": {},
   "outputs": [
    {
     "name": "stdout",
     "output_type": "stream",
     "text": [
      "<HDF5 dataset \"Reflectance_Data\": shape (1000, 1000, 426), type \"<i2\">\n"
     ]
    }
   ],
   "source": [
    "teak_reflArray = teak_refl['Reflectance_Data']\n",
    "print(teak_reflArray)"
   ]
  },
  {
   "cell_type": "code",
   "execution_count": 19,
   "metadata": {},
   "outputs": [
    {
     "name": "stdout",
     "output_type": "stream",
     "text": [
      "TEAK Reflectance Data Dimensions: (1000, 1000, 426)\n"
     ]
    }
   ],
   "source": [
    "refl_shape = teak_reflArray.shape\n",
    "print('TEAK Reflectance Data Dimensions:',refl_shape)"
   ]
  },
  {
   "cell_type": "code",
   "execution_count": 20,
   "metadata": {},
   "outputs": [
    {
     "name": "stdout",
     "output_type": "stream",
     "text": [
      "wavelengths: <HDF5 dataset \"Wavelength\": shape (426,), type \"<f4\">\n"
     ]
    }
   ],
   "source": [
    "wavelengths = teak_refl['Metadata']['Spectral_Data']['Wavelength']\n",
    "print('wavelengths:',wavelengths)"
   ]
  },
  {
   "cell_type": "code",
   "execution_count": 21,
   "metadata": {},
   "outputs": [
    {
     "name": "stdout",
     "output_type": "stream",
     "text": [
      "min wavelength: 381.273 nm\n",
      "max wavelength: 2509.728 nm\n"
     ]
    }
   ],
   "source": [
    "print('min wavelength:', np.amin(wavelengths), 'nm')\n",
    "print('max wavelength:', np.amax(wavelengths), 'nm')"
   ]
  },
  {
   "cell_type": "code",
   "execution_count": 22,
   "metadata": {},
   "outputs": [
    {
     "name": "stdout",
     "output_type": "stream",
     "text": [
      "band width between first 2 bands - 5.008087 nm\n",
      "band width between last 2 bands - 5.0080566 nm\n"
     ]
    }
   ],
   "source": [
    "print('band width between first 2 bands -', (wavelengths.value[1]-wavelengths.value[0]), 'nm')\n",
    "print('band width between last 2 bands -', (wavelengths.value[-1]-wavelengths.value[-2]), 'nm')\n"
   ]
  },
  {
   "cell_type": "code",
   "execution_count": 23,
   "metadata": {},
   "outputs": [
    {
     "name": "stdout",
     "output_type": "stream",
     "text": [
      "TEAK Map Info: b'UTM,  1.000,  1.000,       312000.00,       4093000.0,       1.0000000,       1.0000000,  11,  North,  WGS-84,  units=Meters, 0'\n"
     ]
    }
   ],
   "source": [
    "teak_mapInfo = teak_refl['Metadata']['Coordinate_System']['Map_Info']\n",
    "print('TEAK Map Info:', teak_mapInfo.value)"
   ]
  },
  {
   "cell_type": "code",
   "execution_count": 24,
   "metadata": {},
   "outputs": [
    {
     "data": {
      "text/plain": [
       "<function str.split>"
      ]
     },
     "execution_count": 24,
     "metadata": {},
     "output_type": "execute_result"
    }
   ],
   "source": [
    "mapInfo_string = str(teak_mapInfo.value)\n",
    "mapInfo_string.split"
   ]
  },
  {
   "cell_type": "code",
   "execution_count": 25,
   "metadata": {},
   "outputs": [
    {
     "name": "stdout",
     "output_type": "stream",
     "text": [
      "[\"b'UTM\", '  1.000', '  1.000', '       312000.00', '       4093000.0', '       1.0000000', '       1.0000000', '  11', '  North', '  WGS-84', '  units=Meters', \" 0'\"]\n"
     ]
    }
   ],
   "source": [
    "mapInfo_split = mapInfo_string.split(\",\")\n",
    "print(mapInfo_split)"
   ]
  },
  {
   "cell_type": "code",
   "execution_count": 26,
   "metadata": {},
   "outputs": [
    {
     "name": "stdout",
     "output_type": "stream",
     "text": [
      "Resolution: (1.0, 1.0)\n"
     ]
    }
   ],
   "source": [
    "res = float(mapInfo_split[5]), float(mapInfo_split[6])\n",
    "print('Resolution:', res)"
   ]
  },
  {
   "cell_type": "code",
   "execution_count": 27,
   "metadata": {},
   "outputs": [],
   "source": [
    "xMin = float(mapInfo_split[3])\n",
    "yMax = float(mapInfo_split[4])\n",
    "xMax = xMin + (refl_shape[1]*res[0])\n",
    "yMin = yMax - (refl_shape[0]*res[1])"
   ]
  },
  {
   "cell_type": "code",
   "execution_count": 28,
   "metadata": {},
   "outputs": [
    {
     "name": "stdout",
     "output_type": "stream",
     "text": [
      "teak_ext: (312000.0, 313000.0, 4092000.0, 4093000.0)\n",
      "teak_ext type: <class 'tuple'>\n"
     ]
    }
   ],
   "source": [
    "teak_ext = (xMin, xMax, yMin, yMax)\n",
    "print('teak_ext:',teak_ext)\n",
    "print('teak_ext type:',type(teak_ext))"
   ]
  },
  {
   "cell_type": "code",
   "execution_count": 29,
   "metadata": {},
   "outputs": [
    {
     "name": "stdout",
     "output_type": "stream",
     "text": [
      "teak_extDict: {'yMax': 4093000.0, 'yMin': 4092000.0, 'xMin': 312000.0, 'xMax': 313000.0}\n",
      "teak_extDict type: <class 'dict'>\n"
     ]
    }
   ],
   "source": [
    "teak_extDict = {}\n",
    "teak_extDict['xMin']=xMin\n",
    "teak_extDict['xMax']=xMax\n",
    "teak_extDict['yMin']=yMin\n",
    "teak_extDict['yMax']=yMax\n",
    "print('teak_extDict:',teak_extDict)\n",
    "print('teak_extDict type:',type(teak_extDict))"
   ]
  },
  {
   "cell_type": "code",
   "execution_count": 36,
   "metadata": {},
   "outputs": [
    {
     "name": "stdout",
     "output_type": "stream",
     "text": [
      "b56 type: <class 'numpy.ndarray'>\n",
      "b56 shape: (1000, 1000)\n",
      "Band 56 Reflectance:\n",
      " [[-9999. -9999. -9999. ... -9999. -9999. -9999.]\n",
      " [-9999. -9999. -9999. ... -9999. -9999. -9999.]\n",
      " [-9999. -9999. -9999. ... -9999. -9999. -9999.]\n",
      " ...\n",
      " [-9999. -9999. -9999. ... -9999. -9999. -9999.]\n",
      " [-9999. -9999. -9999. ... -9999. -9999. -9999.]\n",
      " [-9999. -9999. -9999. ... -9999. -9999. -9999.]]\n"
     ]
    }
   ],
   "source": [
    "b56 = teak_reflArray[:,:,55].astype(float)\n",
    "print('b56 type:',type(b56))\n",
    "print('b56 shape:',b56.shape)\n",
    "print('Band 56 Reflectance:\\n',b56)"
   ]
  },
  {
   "cell_type": "code",
   "execution_count": 41,
   "metadata": {},
   "outputs": [
    {
     "name": "stdout",
     "output_type": "stream",
     "text": [
      "Scale Factor: 10000.0\n",
      "Data Ignore Value: -9999.0\n",
      "Cleaned Band 56 Reflectance:/n [[nan nan nan ... nan nan nan]\n",
      " [nan nan nan ... nan nan nan]\n",
      " [nan nan nan ... nan nan nan]\n",
      " ...\n",
      " [nan nan nan ... nan nan nan]\n",
      " [nan nan nan ... nan nan nan]\n",
      " [nan nan nan ... nan nan nan]]\n"
     ]
    }
   ],
   "source": [
    "scaleFactor = teak_reflArray.attrs['Scale_Factor']\n",
    "noDataValue = teak_reflArray.attrs['Data_Ignore_Value']\n",
    "print('Scale Factor:',scaleFactor)\n",
    "print('Data Ignore Value:',noDataValue)\n",
    "\n",
    "b56[b56==int(noDataValue)]=np.nan\n",
    "b56 = b56/scaleFactor\n",
    "print('Cleaned Band 56 Reflectance:/n',b56)"
   ]
  },
  {
   "cell_type": "code",
   "execution_count": 35,
   "metadata": {},
   "outputs": [
    {
     "data": {
      "image/png": "[encoded data removed]",
      "text/plain": [
       "<Figure size 432x288 with 1 Axes>"
      ]
     },
     "metadata": {},
     "output_type": "display_data"
    }
   ],
   "source": [
    "teak_plot = plt.imshow(b56,extent=teak_ext,cmap=\"Greys\")"
   ]
  },
  {
   "cell_type": "code",
   "execution_count": 42,
   "metadata": {},
   "outputs": [
    {
     "data": {
      "image/png": "[encoded data removed]",
      "text/plain": [
       "<Figure size 432x288 with 1 Axes>"
      ]
     },
     "metadata": {},
     "output_type": "display_data"
    }
   ],
   "source": [
    "plt.hist(b56[~np.isnan(b56)],50);"
   ]
  },
  {
   "cell_type": "code",
   "execution_count": 43,
   "metadata": {},
   "outputs": [
    {
     "data": {
      "image/png": "[encoded data removed]",
      "text/plain": [
       "<Figure size 432x288 with 1 Axes>"
      ]
     },
     "metadata": {},
     "output_type": "display_data"
    }
   ],
   "source": [
    "teak_plot = plt.imshow(b56,extent=teak_ext,cmap='Greys',clim=(0,0.4))\n",
    "plt.title('SERC Band 56 Reflectance');"
   ]
  },
  {
   "cell_type": "code",
   "execution_count": null,
   "metadata": {},
   "outputs": [],
   "source": []
  }
 ],
 "metadata": {
  "kernelspec": {
   "display_name": "Python [conda env:py35]",
   "language": "python",
   "name": "conda-env-py35-py"
  },
  "language_info": {
   "codemirror_mode": {
    "name": "ipython",
    "version": 3
   },
   "file_extension": ".py",
   "mimetype": "text/x-python",
   "name": "python",
   "nbconvert_exporter": "python",
   "pygments_lexer": "ipython3",
   "version": "3.5.5"
  }
 },
 "nbformat": 4,
 "nbformat_minor": 2
}
